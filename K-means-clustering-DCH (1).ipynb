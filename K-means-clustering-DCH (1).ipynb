{
 "cells": [
  {
   "cell_type": "markdown",
   "metadata": {},
   "source": [
    "## Introduction\n",
    "\n",
    "This notebook is based off of a sample sagemaker notebook, using Kmeans clustering to identify groups of hand written numbers.\n",
    "\n",
    "AWS-hosted notebook can be found here: https://dane-notebook.notebook.us-west-2.sagemaker.aws/notebooks/sample-notebooks/sagemaker-python-sdk/1P_kmeans_highlevel/K-means-clustering-DCH.ipynb#\n"
   ]
  },
  {
   "cell_type": "markdown",
   "metadata": {},
   "source": [
    "## Prequisites and Preprocessing\n",
    "\n",
    "### Setting up environment variables"
   ]
  },
  {
   "cell_type": "code",
   "execution_count": 1,
   "metadata": {
    "collapsed": true,
    "isConfigCell": true
   },
   "outputs": [],
   "source": [
    "from sagemaker import get_execution_role\n",
    "\n",
    "role = get_execution_role()\n",
    "bucket='dane-bucket-1'"
   ]
  },
  {
   "cell_type": "markdown",
   "metadata": {},
   "source": [
    "### Data ingestion\n",
    "\n",
    "Next, we read the dataset from the existing repository into memory, for preprocessing prior to training.  In this case we'll use the MNIST dataset, which contains 70K 28 x 28 pixel images of handwritten digits.  For more details, please see [here](http://yann.lecun.com/exdb/mnist/).\n",
    "\n",
    "This processing could be done *in situ* by Amazon Athena, Apache Spark in Amazon EMR, Amazon Redshift, etc., assuming the dataset is present in the appropriate location. Then, the next step would be to transfer the data to S3 for use in training. For small datasets, such as this one, reading into memory isn't onerous, though it would be for larger datasets."
   ]
  },
  {
   "cell_type": "code",
   "execution_count": 2,
   "metadata": {},
   "outputs": [
    {
     "name": "stdout",
     "output_type": "stream",
     "text": [
      "CPU times: user 908 ms, sys: 276 ms, total: 1.18 s\n",
      "Wall time: 2.96 s\n"
     ]
    }
   ],
   "source": [
    "%%time\n",
    "import pickle, gzip, numpy, urllib.request, json\n",
    "\n",
    "# Load the dataset\n",
    "urllib.request.urlretrieve(\"http://deeplearning.net/data/mnist/mnist.pkl.gz\", \"mnist.pkl.gz\")\n",
    "with gzip.open('mnist.pkl.gz', 'rb') as f:\n",
    "    train_set, valid_set, test_set = pickle.load(f, encoding='latin1')"
   ]
  },
  {
   "cell_type": "markdown",
   "metadata": {},
   "source": [
    "### Data inspection\n",
    "\n",
    "Once the dataset is imported, it's typical as part of the machine learning process to inspect the data, understand the distributions, and determine what type(s) of preprocessing might be needed. You can perform those tasks right here in the notebook. As an example, let's go ahead and look at one of the digits that is part of the dataset."
   ]
  },
  {
   "cell_type": "code",
   "execution_count": 3,
   "metadata": {},
   "outputs": [
    {
     "data": {
      "image/png": "[encoded data removed]",
      "text/plain": [
       "<matplotlib.figure.Figure at 0x7f8e7fa02cc0>"
      ]
     },
     "metadata": {},
     "output_type": "display_data"
    }
   ],
   "source": [
    "%matplotlib inline\n",
    "import matplotlib.pyplot as plt\n",
    "plt.rcParams[\"figure.figsize\"] = (2,10)\n",
    "\n",
    "\n",
    "def show_digit(img, caption='', subplot=None):\n",
    "    if subplot==None:\n",
    "        _,(subplot)=plt.subplots(1,1)\n",
    "    imgr=img.reshape((28,28))\n",
    "    subplot.axis('off')\n",
    "    subplot.imshow(imgr, cmap='gray')\n",
    "    plt.title(caption)\n",
    "\n",
    "show_digit(train_set[0][30], 'This is a {}'.format(train_set[1][30]))"
   ]
  },
  {
   "cell_type": "markdown",
   "metadata": {},
   "source": [
    "## Training the K-Means model\n",
    "\n",
    "Once we have the data preprocessed and available in the correct format for training, the next step is to actually train the model using the data. Since this data is relatively small, it isn't meant to show off the performance of the k-means training algorithm.  But Amazon SageMaker's k-means has been tested on, and scales well with, multi-terabyte datasets.\n",
    "\n",
    "After setting training parameters, we kick off training, and poll for status until training is completed, which in this example, takes between 7 and 11 minutes."
   ]
  },
  {
   "cell_type": "code",
   "execution_count": 4,
   "metadata": {},
   "outputs": [
    {
     "name": "stdout",
     "output_type": "stream",
     "text": [
      "training data will be uploaded to: s3://dane-bucket-1/kmeans_highlevel_example/data\n",
      "training artifacts will be uploaded to: s3://dane-bucket-1/kmeans_example/output\n"
     ]
    },
    {
     "name": "stderr",
     "output_type": "stream",
     "text": [
      "INFO:sagemaker:Created S3 bucket: sagemaker-us-west-2-613553399412\n"
     ]
    }
   ],
   "source": [
    "from sagemaker import KMeans\n",
    "\n",
    "data_location = 's3://{}/kmeans_highlevel_example/data'.format(bucket)\n",
    "output_location = 's3://{}/kmeans_example/output'.format(bucket)\n",
    "\n",
    "print('training data will be uploaded to: {}'.format(data_location))\n",
    "print('training artifacts will be uploaded to: {}'.format(output_location))\n",
    "\n",
    "kmeans = KMeans(role=role,\n",
    "                train_instance_count=2,\n",
    "                train_instance_type='ml.c4.8xlarge',\n",
    "                output_path=output_location,\n",
    "                k=10,\n",
    "                data_location=data_location)\n",
    "\n",
    "# training data will be uploaded to: s3://dane-bucket-1/kmeans_highlevel_example/data\n",
    "# training artifacts will be uploaded to: s3://dane-bucket-1/kmeans_example/output"
   ]
  },
  {
   "cell_type": "code",
   "execution_count": 5,
   "metadata": {
    "scrolled": false
   },
   "outputs": [
    {
     "name": "stderr",
     "output_type": "stream",
     "text": [
      "INFO:sagemaker:Creating training-job with name: kmeans-2018-03-11-18-06-34-718\n"
     ]
    },
    {
     "name": "stdout",
     "output_type": "stream",
     "text": [
      "......................................................................\n",
      "\u001b[32mDocker entrypoint called with argument(s): train\u001b[0m\n",
      "\u001b[32m[03/11/2018 18:12:19 INFO 139792706447168] Reading default configuration from /opt/amazon/lib/python2.7/site-packages/algorithm/default-input.json: {u'_num_gpus': u'auto', u'local_lloyd_num_trials': u'auto', u'_log_level': u'info', u'_kvstore': u'auto', u'local_lloyd_init_method': u'kmeans++', u'force_dense': u'true', u'epochs': u'1', u'init_method': u'random', u'local_lloyd_tol': u'0.0001', u'local_lloyd_max_iter': u'300', u'_disable_wait_to_read': u'false', u'extra_center_factor': u'auto', u'eval_metrics': u'[\"msd\"]', u'_num_kv_servers': u'1', u'mini_batch_size': u'5000', u'half_life_time_size': u'0', u'_num_slices': u'1'}\u001b[0m\n",
      "\u001b[32m[03/11/2018 18:12:19 INFO 139792706447168] Reading provided configuration from /opt/ml/input/config/hyperparameters.json: {u'feature_dim': u'784', u'mini_batch_size': u'500', u'k': u'10', u'force_dense': u'True'}\u001b[0m\n",
      "\u001b[32m[03/11/2018 18:12:19 INFO 139792706447168] Final configuration: {u'k': u'10', u'_num_gpus': u'auto', u'local_lloyd_num_trials': u'auto', u'_log_level': u'info', u'_kvstore': u'auto', u'local_lloyd_init_method': u'kmeans++', u'force_dense': u'True', u'epochs': u'1', u'init_method': u'random', u'feature_dim': u'784', u'local_lloyd_tol': u'0.0001', u'local_lloyd_max_iter': u'300', u'_disable_wait_to_read': u'false', u'extra_center_factor': u'auto', u'eval_metrics': u'[\"msd\"]', u'_num_kv_servers': u'1', u'mini_batch_size': u'500', u'half_life_time_size': u'0', u'_num_slices': u'1'}\u001b[0m\n",
      "\u001b[32m[03/11/2018 18:12:19 WARNING 139792706447168] Loggers have already been setup.\u001b[0m\n",
      "\u001b[32m[03/11/2018 18:12:19 INFO 139792706447168] Environment: {'PROTOCOL_BUFFERS_PYTHON_IMPLEMENTATION_VERSION': '2', 'DMLC_PS_ROOT_PORT': '9000', 'DMLC_NUM_WORKER': '2', 'SAGEMAKER_HTTP_PORT': '8080', 'HOME': '/root', 'PYTHONUNBUFFERED': 'TRUE', 'CANONICAL_ENVROOT': '/opt/amazon', 'LD_LIBRARY_PATH': '/usr/local/nvidia/lib64::/opt/amazon/lib', 'MXNET_KVSTORE_BIGARRAY_BOUND': '400000000', 'LANG': 'en_US.utf8', 'DMLC_INTERFACE': 'ethwe', 'SHLVL': '1', 'DMLC_PS_ROOT_URI': '10.40.0.3', 'AWS_REGION': 'us-west-2', 'NVIDIA_VISIBLE_DEVICES': 'all', 'PATH': '/opt/amazon/bin:/usr/local/nvidia/bin:/usr/local/sbin:/usr/local/bin:/usr/sbin:/usr/bin:/sbin:/bin:/opt/amazon/bin:/opt/amazon/bin', 'PROTOCOL_BUFFERS_PYTHON_IMPLEMENTATION': 'cpp', 'ENVROOT': '/opt/amazon', 'SAGEMAKER_DATA_PATH': '/opt/ml', 'NVIDIA_DRIVER_CAPABILITIES': 'compute,utility', 'NVIDIA_REQUIRE_CUDA': 'cuda>=9.0', 'OMP_NUM_THREADS': '18', 'HOSTNAME': 'aws', 'AWS_CONTAINER_CREDENTIALS_RELATIVE_URI': '/v2/credentials/26c9524a-138f-42aa-a45c-5ae8092beb55', 'DMLC_ROLE': 'worker', 'PWD': '/', 'DMLC_NUM_SERVER': '1'}\u001b[0m\n",
      "\u001b[32m[03/11/2018 18:12:19 INFO 139792706447168] Using default worker.\u001b[0m\n",
      "\u001b[32m[03/11/2018 18:12:19 INFO 139792706447168] Loaded iterator creator application/x-recordio-protobuf for content type ('application/x-recordio-protobuf', '1.0')\u001b[0m\n",
      "\u001b[32m[03/11/2018 18:12:19 INFO 139792706447168] Create Store: dist_async\u001b[0m\n",
      "\u001b[32m[03/11/2018 18:12:19 INFO 139792706447168] nvidia-smi took: 0.0251660346985 secs to identify 0 gpus\u001b[0m\n",
      "\u001b[32m[03/11/2018 18:12:19 INFO 139792706447168] Number of GPUs being used: 0\u001b[0m\n",
      "\u001b[32m[03/11/2018 18:12:19 INFO 139792706447168] Setting up with params: {u'k': u'10', u'_num_gpus': u'auto', u'local_lloyd_num_trials': u'auto', u'_log_level': u'info', u'_kvstore': u'auto', u'local_lloyd_init_method': u'kmeans++', u'force_dense': u'True', u'epochs': u'1', u'init_method': u'random', u'feature_dim': u'784', u'local_lloyd_tol': u'0.0001', u'local_lloyd_max_iter': u'300', u'_disable_wait_to_read': u'false', u'extra_center_factor': u'auto', u'eval_metrics': u'[\"msd\"]', u'_num_kv_servers': u'1', u'mini_batch_size': u'500', u'half_life_time_size': u'0', u'_num_slices': u'1'}\u001b[0m\n",
      "\u001b[32m/opt/amazon/lib/python2.7/site-packages/ai_algorithms_sdk/config/config_helper.py:170: DeprecationWarning: deprecated\n",
      "  warnings.warn(\"deprecated\", DeprecationWarning)\u001b[0m\n",
      "\u001b[32m/opt/amazon/lib/python2.7/site-packages/ai_algorithms_sdk/config/config_helper.py:120: DeprecationWarning: deprecated\n",
      "  warnings.warn(\"deprecated\", DeprecationWarning)\u001b[0m\n",
      "\u001b[32m[03/11/2018 18:12:19 INFO 139792706447168] Number of GPUs being used: 0\u001b[0m\n",
      "\u001b[32m[03/11/2018 18:12:19 INFO 139792706447168] number of center slices 1\u001b[0m\n",
      "\u001b[32m#metrics {\"Metrics\": {\"Max Batches Seen Between Resets\": {\"count\": 1, \"max\": 1, \"sum\": 1.0, \"min\": 1}, \"Number of Batches Since Last Reset\": {\"count\": 1, \"max\": 1, \"sum\": 1.0, \"min\": 1}, \"Number of Records Since Last Reset\": {\"count\": 1, \"max\": 500, \"sum\": 500.0, \"min\": 500}, \"Total Batches Seen\": {\"count\": 1, \"max\": 1, \"sum\": 1.0, \"min\": 1}, \"Total Records Seen\": {\"count\": 1, \"max\": 500, \"sum\": 500.0, \"min\": 500}, \"Max Records Seen Between Resets\": {\"count\": 1, \"max\": 500, \"sum\": 500.0, \"min\": 500}, \"Reset Count\": {\"count\": 1, \"max\": 0, \"sum\": 0.0, \"min\": 0}}, \"EndTime\": 1520791939.981485, \"Dimensions\": {\"Host\": \"algo-2\", \"Meta\": \"init_train_data_iter\", \"Operation\": \"training\", \"Algorithm\": \"AWS/KMeansWebscale\"}, \"StartTime\": 1520791939.981451}\n",
      "\u001b[0m\n",
      "\u001b[32m[03/11/2018 18:12:20 INFO 139792706447168] Iter 10: Short term msd 31.657507. Long term msd 33.519536\u001b[0m\n",
      "\u001b[31mDocker entrypoint called with argument(s): train\u001b[0m\n",
      "\u001b[31m[03/11/2018 18:12:18 INFO 139886977390400] Reading default configuration from /opt/amazon/lib/python2.7/site-packages/algorithm/default-input.json: {u'_num_gpus': u'auto', u'local_lloyd_num_trials': u'auto', u'_log_level': u'info', u'_kvstore': u'auto', u'local_lloyd_init_method': u'kmeans++', u'force_dense': u'true', u'epochs': u'1', u'init_method': u'random', u'local_lloyd_tol': u'0.0001', u'local_lloyd_max_iter': u'300', u'_disable_wait_to_read': u'false', u'extra_center_factor': u'auto', u'eval_metrics': u'[\"msd\"]', u'_num_kv_servers': u'1', u'mini_batch_size': u'5000', u'half_life_time_size': u'0', u'_num_slices': u'1'}\u001b[0m\n",
      "\u001b[31m[03/11/2018 18:12:18 INFO 139886977390400] Reading provided configuration from /opt/ml/input/config/hyperparameters.json: {u'feature_dim': u'784', u'mini_batch_size': u'500', u'k': u'10', u'force_dense': u'True'}\u001b[0m\n",
      "\u001b[31m[03/11/2018 18:12:18 INFO 139886977390400] Final configuration: {u'k': u'10', u'_num_gpus': u'auto', u'local_lloyd_num_trials': u'auto', u'_log_level': u'info', u'_kvstore': u'auto', u'local_lloyd_init_method': u'kmeans++', u'force_dense': u'True', u'epochs': u'1', u'init_method': u'random', u'feature_dim': u'784', u'local_lloyd_tol': u'0.0001', u'local_lloyd_max_iter': u'300', u'_disable_wait_to_read': u'false', u'extra_center_factor': u'auto', u'eval_metrics': u'[\"msd\"]', u'_num_kv_servers': u'1', u'mini_batch_size': u'500', u'half_life_time_size': u'0', u'_num_slices': u'1'}\u001b[0m\n",
      "\u001b[31m[03/11/2018 18:12:18 WARNING 139886977390400] Loggers have already been setup.\u001b[0m\n",
      "\u001b[31m[03/11/2018 18:12:18 INFO 139886977390400] Launching parameter server for role scheduler\u001b[0m\n",
      "\u001b[31m[03/11/2018 18:12:18 INFO 139886977390400] {'PROTOCOL_BUFFERS_PYTHON_IMPLEMENTATION_VERSION': '2', 'PATH': '/opt/amazon/bin:/usr/local/nvidia/bin:/usr/local/sbin:/usr/local/bin:/usr/sbin:/usr/bin:/sbin:/bin:/opt/amazon/bin:/opt/amazon/bin', 'SAGEMAKER_HTTP_PORT': '8080', 'HOME': '/root', 'PYTHONUNBUFFERED': 'TRUE', 'CANONICAL_ENVROOT': '/opt/amazon', 'LD_LIBRARY_PATH': '/usr/local/nvidia/lib64::/opt/amazon/lib', 'MXNET_KVSTORE_BIGARRAY_BOUND': '400000000', 'LANG': 'en_US.utf8', 'DMLC_INTERFACE': 'ethwe', 'SHLVL': '1', 'AWS_REGION': 'us-west-2', 'NVIDIA_VISIBLE_DEVICES': 'all', 'PROTOCOL_BUFFERS_PYTHON_IMPLEMENTATION': 'cpp', 'ENVROOT': '/opt/amazon', 'SAGEMAKER_DATA_PATH': '/opt/ml', 'NVIDIA_DRIVER_CAPABILITIES': 'compute,utility', 'NVIDIA_REQUIRE_CUDA': 'cuda>=9.0', 'OMP_NUM_THREADS': '18', 'HOSTNAME': 'aws', 'AWS_CONTAINER_CREDENTIALS_RELATIVE_URI': '/v2/credentials/2e211556-6573-427f-bc6b-67b05e4b30c8', 'PWD': '/'}\u001b[0m\n",
      "\u001b[31m[03/11/2018 18:12:18 INFO 139886977390400] envs={'PROTOCOL_BUFFERS_PYTHON_IMPLEMENTATION_VERSION': '2', 'DMLC_NUM_WORKER': '2', 'DMLC_PS_ROOT_PORT': '9000', 'PATH': '/opt/amazon/bin:/usr/local/nvidia/bin:/usr/local/sbin:/usr/local/bin:/usr/sbin:/usr/bin:/sbin:/bin:/opt/amazon/bin:/opt/amazon/bin', 'SAGEMAKER_HTTP_PORT': '8080', 'HOME': '/root', 'PYTHONUNBUFFERED': 'TRUE', 'CANONICAL_ENVROOT': '/opt/amazon', 'LD_LIBRARY_PATH': '/usr/local/nvidia/lib64::/opt/amazon/lib', 'MXNET_KVSTORE_BIGARRAY_BOUND': '400000000', 'LANG': 'en_US.utf8', 'DMLC_INTERFACE': 'ethwe', 'SHLVL': '1', 'DMLC_PS_ROOT_URI': '10.40.0.3', 'AWS_REGION': 'us-west-2', 'NVIDIA_VISIBLE_DEVICES': 'all', 'PROTOCOL_BUFFERS_PYTHON_IMPLEMENTATION': 'cpp', 'ENVROOT': '/opt/amazon', 'SAGEMAKER_DATA_PATH': '/opt/ml', 'NVIDIA_DRIVER_CAPABILITIES': 'compute,utility', 'NVIDIA_REQUIRE_CUDA': 'cuda>=9.0', 'OMP_NUM_THREADS': '18', 'HOSTNAME': 'aws', 'AWS_CONTAINER_CREDENTIALS_RELATIVE_URI': '/v2/credentials/2e211556-6573-427f-bc6b-67b05e4b30c8', 'DMLC_ROLE': 'scheduler', 'PWD': '/', 'DMLC_NUM_SERVER': '1'}\u001b[0m\n",
      "\u001b[31m[03/11/2018 18:12:18 INFO 139886977390400] Launching parameter server for role server\u001b[0m\n",
      "\u001b[31m[03/11/2018 18:12:18 INFO 139886977390400] {'PROTOCOL_BUFFERS_PYTHON_IMPLEMENTATION_VERSION': '2', 'PATH': '/opt/amazon/bin:/usr/local/nvidia/bin:/usr/local/sbin:/usr/local/bin:/usr/sbin:/usr/bin:/sbin:/bin:/opt/amazon/bin:/opt/amazon/bin', 'SAGEMAKER_HTTP_PORT': '8080', 'HOME': '/root', 'PYTHONUNBUFFERED': 'TRUE', 'CANONICAL_ENVROOT': '/opt/amazon', 'LD_LIBRARY_PATH': '/usr/local/nvidia/lib64::/opt/amazon/lib', 'MXNET_KVSTORE_BIGARRAY_BOUND': '400000000', 'LANG': 'en_US.utf8', 'DMLC_INTERFACE': 'ethwe', 'SHLVL': '1', 'AWS_REGION': 'us-west-2', 'NVIDIA_VISIBLE_DEVICES': 'all', 'PROTOCOL_BUFFERS_PYTHON_IMPLEMENTATION': 'cpp', 'ENVROOT': '/opt/amazon', 'SAGEMAKER_DATA_PATH': '/opt/ml', 'NVIDIA_DRIVER_CAPABILITIES': 'compute,utility', 'NVIDIA_REQUIRE_CUDA': 'cuda>=9.0', 'OMP_NUM_THREADS': '18', 'HOSTNAME': 'aws', 'AWS_CONTAINER_CREDENTIALS_RELATIVE_URI': '/v2/credentials/2e211556-6573-427f-bc6b-67b05e4b30c8', 'PWD': '/'}\u001b[0m\n",
      "\u001b[31m[03/11/2018 18:12:18 INFO 139886977390400] envs={'PROTOCOL_BUFFERS_PYTHON_IMPLEMENTATION_VERSION': '2', 'DMLC_NUM_WORKER': '2', 'DMLC_PS_ROOT_PORT': '9000', 'PATH': '/opt/amazon/bin:/usr/local/nvidia/bin:/usr/local/sbin:/usr/local/bin:/usr/sbin:/usr/bin:/sbin:/bin:/opt/amazon/bin:/opt/amazon/bin', 'SAGEMAKER_HTTP_PORT': '8080', 'HOME': '/root', 'PYTHONUNBUFFERED': 'TRUE', 'CANONICAL_ENVROOT': '/opt/amazon', 'LD_LIBRARY_PATH': '/usr/local/nvidia/lib64::/opt/amazon/lib', 'MXNET_KVSTORE_BIGARRAY_BOUND': '400000000', 'LANG': 'en_US.utf8', 'DMLC_INTERFACE': 'ethwe', 'SHLVL': '1', 'DMLC_PS_ROOT_URI': '10.40.0.3', 'AWS_REGION': 'us-west-2', 'NVIDIA_VISIBLE_DEVICES': 'all', 'PROTOCOL_BUFFERS_PYTHON_IMPLEMENTATION': 'cpp', 'ENVROOT': '/opt/amazon', 'SAGEMAKER_DATA_PATH': '/opt/ml', 'NVIDIA_DRIVER_CAPABILITIES': 'compute,utility', 'NVIDIA_REQUIRE_CUDA': 'cuda>=9.0', 'OMP_NUM_THREADS': '18', 'HOSTNAME': 'aws', 'AWS_CONTAINER_CREDENTIALS_RELATIVE_URI': '/v2/credentials/2e211556-6573-427f-bc6b-67b05e4b30c8', 'DMLC_ROLE': 'server', 'PWD': '/', 'DMLC_NUM_SERVER': '1'}\u001b[0m\n",
      "\u001b[31m[03/11/2018 18:12:18 INFO 139886977390400] Environment: {'PROTOCOL_BUFFERS_PYTHON_IMPLEMENTATION_VERSION': '2', 'DMLC_PS_ROOT_PORT': '9000', 'DMLC_NUM_WORKER': '2', 'SAGEMAKER_HTTP_PORT': '8080', 'HOME': '/root', 'PYTHONUNBUFFERED': 'TRUE', 'CANONICAL_ENVROOT': '/opt/amazon', 'LD_LIBRARY_PATH': '/usr/local/nvidia/lib64::/opt/amazon/lib', 'MXNET_KVSTORE_BIGARRAY_BOUND': '400000000', 'LANG': 'en_US.utf8', 'DMLC_INTERFACE': 'ethwe', 'SHLVL': '1', 'DMLC_PS_ROOT_URI': '10.40.0.3', 'AWS_REGION': 'us-west-2', 'NVIDIA_VISIBLE_DEVICES': 'all', 'PATH': '/opt/amazon/bin:/usr/local/nvidia/bin:/usr/local/sbin:/usr/local/bin:/usr/sbin:/usr/bin:/sbin:/bin:/opt/amazon/bin:/opt/amazon/bin', 'PROTOCOL_BUFFERS_PYTHON_IMPLEMENTATION': 'cpp', 'ENVROOT': '/opt/amazon', 'SAGEMAKER_DATA_PATH': '/opt/ml', 'NVIDIA_DRIVER_CAPABILITIES': 'compute,utility', 'NVIDIA_REQUIRE_CUDA': 'cuda>=9.0', 'OMP_NUM_THREADS': '18', 'HOSTNAME': 'aws', 'AWS_CONTAINER_CREDENTIALS_RELATIVE_URI': '/v2/credentials/2e211556-6573-427f-bc6b-67b05e4b30c8', 'DMLC_ROLE': 'worker', 'PWD': '/', 'DMLC_NUM_SERVER': '1'}\u001b[0m\n",
      "\u001b[31m[03/11/2018 18:12:18 INFO 139886977390400] Using default worker.\u001b[0m\n",
      "\u001b[31m[03/11/2018 18:12:18 INFO 139886977390400] Loaded iterator creator application/x-recordio-protobuf for content type ('application/x-recordio-protobuf', '1.0')\u001b[0m\n",
      "\u001b[31m[03/11/2018 18:12:18 INFO 139886977390400] Create Store: dist_async\u001b[0m\n",
      "\u001b[31m[03/11/2018 18:12:19 INFO 139886977390400] nvidia-smi took: 0.0252571105957 secs to identify 0 gpus\u001b[0m\n",
      "\u001b[31m[03/11/2018 18:12:19 INFO 139886977390400] Number of GPUs being used: 0\u001b[0m\n",
      "\u001b[31m[03/11/2018 18:12:19 INFO 139886977390400] Setting up with params: {u'k': u'10', u'_num_gpus': u'auto', u'local_lloyd_num_trials': u'auto', u'_log_level': u'info', u'_kvstore': u'auto', u'local_lloyd_init_method': u'kmeans++', u'force_dense': u'True', u'epochs': u'1', u'init_method': u'random', u'feature_dim': u'784', u'local_lloyd_tol': u'0.0001', u'local_lloyd_max_iter': u'300', u'_disable_wait_to_read': u'false', u'extra_center_factor': u'auto', u'eval_metrics': u'[\"msd\"]', u'_num_kv_servers': u'1', u'mini_batch_size': u'500', u'half_life_time_size': u'0', u'_num_slices': u'1'}\u001b[0m\n",
      "\u001b[31m[03/11/2018 18:12:19 INFO 139886977390400] Number of GPUs being used: 0\u001b[0m\n",
      "\u001b[31m/opt/amazon/lib/python2.7/site-packages/ai_algorithms_sdk/config/config_helper.py:170: DeprecationWarning: deprecated\n",
      "  warnings.warn(\"deprecated\", DeprecationWarning)\u001b[0m\n",
      "\u001b[31m/opt/amazon/lib/python2.7/site-packages/ai_algorithms_sdk/config/config_helper.py:120: DeprecationWarning: deprecated\n",
      "  warnings.warn(\"deprecated\", DeprecationWarning)\u001b[0m\n",
      "\u001b[31m[03/11/2018 18:12:19 INFO 139886977390400] number of center slices 1\u001b[0m\n",
      "\u001b[31m#metrics {\"Metrics\": {\"Max Batches Seen Between Resets\": {\"count\": 1, \"max\": 1, \"sum\": 1.0, \"min\": 1}, \"Number of Batches Since Last Reset\": {\"count\": 1, \"max\": 1, \"sum\": 1.0, \"min\": 1}, \"Number of Records Since Last Reset\": {\"count\": 1, \"max\": 500, \"sum\": 500.0, \"min\": 500}, \"Total Batches Seen\": {\"count\": 1, \"max\": 1, \"sum\": 1.0, \"min\": 1}, \"Total Records Seen\": {\"count\": 1, \"max\": 500, \"sum\": 500.0, \"min\": 500}, \"Max Records Seen Between Resets\": {\"count\": 1, \"max\": 500, \"sum\": 500.0, \"min\": 500}, \"Reset Count\": {\"count\": 1, \"max\": 0, \"sum\": 0.0, \"min\": 0}}, \"EndTime\": 1520791939.992698, \"Dimensions\": {\"Host\": \"algo-1\", \"Meta\": \"init_train_data_iter\", \"Operation\": \"training\", \"Algorithm\": \"AWS/KMeansWebscale\"}, \"StartTime\": 1520791939.992669}\n",
      "\u001b[0m\n",
      "\u001b[31m[03/11/2018 18:12:20 INFO 139886977390400] Iter 10: Short term msd 31.099070. Long term msd 32.420867\u001b[0m\n",
      "\u001b[31m[03/11/2018 18:12:20 INFO 139886977390400] Iter 20: Short term msd 29.896840. Long term msd 30.352061\u001b[0m\n",
      "\u001b[31m[03/11/2018 18:12:20 INFO 139886977390400] Iter 30: Short term msd 29.728960. Long term msd 29.874458\u001b[0m\n",
      "\u001b[31m[03/11/2018 18:12:20 INFO 139886977390400] Iter 40: Short term msd 29.087787. Long term msd 29.292949\u001b[0m\n",
      "\u001b[31m[03/11/2018 18:12:20 INFO 139886977390400] processed a total of 25000 examples\u001b[0m\n",
      "\u001b[31m#metrics {\"Metrics\": {\"Max Batches Seen Between Resets\": {\"count\": 1, \"max\": 50, \"sum\": 50.0, \"min\": 50}, \"Number of Batches Since Last Reset\": {\"count\": 1, \"max\": 50, \"sum\": 50.0, \"min\": 50}, \"Number of Records Since Last Reset\": {\"count\": 1, \"max\": 25000, \"sum\": 25000.0, \"min\": 25000}, \"Total Batches Seen\": {\"count\": 1, \"max\": 51, \"sum\": 51.0, \"min\": 51}, \"Total Records Seen\": {\"count\": 1, \"max\": 25500, \"sum\": 25500.0, \"min\": 25500}, \"Max Records Seen Between Resets\": {\"count\": 1, \"max\": 25000, \"sum\": 25000.0, \"min\": 25000}, \"Reset Count\": {\"count\": 1, \"max\": 1, \"sum\": 1.0, \"min\": 1}}, \"EndTime\": 1520791940.838931, \"Dimensions\": {\"Host\": \"algo-1\", \"Meta\": \"training_data_iter\", \"Operation\": \"training\", \"Algorithm\": \"AWS/KMeansWebscale\", \"epoch\": 0}, \"StartTime\": 1520791940.838884}\n",
      "\u001b[0m\n",
      "\u001b[31m[03/11/2018 18:12:20 INFO 139886977390400] shrinking 100 centers into 10\u001b[0m\n",
      "\u001b[31m[03/11/2018 18:12:20 INFO 139886977390400] local kmeans attempt #0. Current mean square distance 11.513797\u001b[0m\n",
      "\u001b[31m[03/11/2018 18:12:20 INFO 139886977390400] local kmeans attempt #1. Current mean square distance 11.563875\u001b[0m\n",
      "\u001b[31m[03/11/2018 18:12:20 INFO 139886977390400] local kmeans attempt #2. Current mean square distance 11.504123\u001b[0m\n",
      "\u001b[31m[03/11/2018 18:12:20 INFO 139886977390400] local kmeans attempt #3. Current mean square distance 11.603746\u001b[0m\n",
      "\u001b[31m[03/11/2018 18:12:21 INFO 139886977390400] local kmeans attempt #4. Current mean square distance 11.702543\u001b[0m\n",
      "\u001b[31m[03/11/2018 18:12:21 INFO 139886977390400] local kmeans attempt #5. Current mean square distance 11.946576\u001b[0m\n",
      "\u001b[32m[03/11/2018 18:12:20 INFO 139792706447168] Iter 20: Short term msd 29.181030. Long term msd 30.192716\u001b[0m\n",
      "\u001b[32m[03/11/2018 18:12:20 INFO 139792706447168] Iter 30: Short term msd 29.370197. Long term msd 29.718772\u001b[0m\n",
      "\u001b[32m[03/11/2018 18:12:20 INFO 139792706447168] Iter 40: Short term msd 28.856099. Long term msd 29.101886\u001b[0m\n",
      "\u001b[32m[03/11/2018 18:12:20 INFO 139792706447168] processed a total of 25000 examples\u001b[0m\n",
      "\u001b[32m#metrics {\"Metrics\": {\"Max Batches Seen Between Resets\": {\"count\": 1, \"max\": 50, \"sum\": 50.0, \"min\": 50}, \"Number of Batches Since Last Reset\": {\"count\": 1, \"max\": 50, \"sum\": 50.0, \"min\": 50}, \"Number of Records Since Last Reset\": {\"count\": 1, \"max\": 25000, \"sum\": 25000.0, \"min\": 25000}, \"Total Batches Seen\": {\"count\": 1, \"max\": 51, \"sum\": 51.0, \"min\": 51}, \"Total Records Seen\": {\"count\": 1, \"max\": 25500, \"sum\": 25500.0, \"min\": 25500}, \"Max Records Seen Between Resets\": {\"count\": 1, \"max\": 25000, \"sum\": 25000.0, \"min\": 25000}, \"Reset Count\": {\"count\": 1, \"max\": 1, \"sum\": 1.0, \"min\": 1}}, \"EndTime\": 1520791940.822901, \"Dimensions\": {\"Host\": \"algo-2\", \"Meta\": \"training_data_iter\", \"Operation\": \"training\", \"Algorithm\": \"AWS/KMeansWebscale\", \"epoch\": 0}, \"StartTime\": 1520791940.822855}\n",
      "\u001b[0m\n",
      "\u001b[32m[03/11/2018 18:12:20 INFO 139792706447168] shrinking 100 centers into 10\u001b[0m\n",
      "\u001b[32m[03/11/2018 18:12:20 INFO 139792706447168] local kmeans attempt #0. Current mean square distance 12.103765\u001b[0m\n",
      "\u001b[32m[03/11/2018 18:12:20 INFO 139792706447168] local kmeans attempt #1. Current mean square distance 11.639526\u001b[0m\n",
      "\u001b[32m[03/11/2018 18:12:20 INFO 139792706447168] local kmeans attempt #2. Current mean square distance 11.102541\u001b[0m\n",
      "\u001b[32m[03/11/2018 18:12:20 INFO 139792706447168] local kmeans attempt #3. Current mean square distance 11.213676\u001b[0m\n",
      "\u001b[32m[03/11/2018 18:12:20 INFO 139792706447168] local kmeans attempt #4. Current mean square distance 11.353498\u001b[0m\n",
      "\u001b[32m[03/11/2018 18:12:21 INFO 139792706447168] local kmeans attempt #5. Current mean square distance 11.600365\u001b[0m\n",
      "\u001b[32m[03/11/2018 18:12:21 INFO 139792706447168] local kmeans attempt #6. Current mean square distance 11.779960\u001b[0m\n",
      "\u001b[32m[03/11/2018 18:12:21 INFO 139792706447168] local kmeans attempt #7. Current mean square distance 11.638031\u001b[0m\n",
      "\u001b[32m[03/11/2018 18:12:21 INFO 139792706447168] local kmeans attempt #8. Current mean square distance 11.296607\u001b[0m\n",
      "\u001b[32m[03/11/2018 18:12:21 INFO 139792706447168] local kmeans attempt #9. Current mean square distance 11.809978\u001b[0m\n",
      "\u001b[32m[03/11/2018 18:12:21 INFO 139792706447168] finished shrinking process. Mean Square Distance = 11\u001b[0m\n",
      "\u001b[32m[03/11/2018 18:12:21 INFO 139792706447168] compute all data-center distances: point norm took: 34.5054%, (0.288765 secs)\u001b[0m\n",
      "\u001b[32m[03/11/2018 18:12:21 INFO 139792706447168] batch data loading with context took: 23.4777%, (0.196478 secs)\u001b[0m\n",
      "\u001b[32m[03/11/2018 18:12:21 INFO 139792706447168] collect from kv store took: 11.5487%, (0.096648 secs)\u001b[0m\n",
      "\u001b[32m[03/11/2018 18:12:21 INFO 139792706447168] predict compute msd took: 7.7313%, (0.064701 secs)\u001b[0m\n",
      "\u001b[32m[03/11/2018 18:12:21 INFO 139792706447168] compute all data-center distances: center norm took: 7.2229%, (0.060447 secs)\u001b[0m\n",
      "\u001b[32m[03/11/2018 18:12:21 INFO 139792706447168] gradient: cluster size  took: 4.5267%, (0.037883 secs)\u001b[0m\n",
      "\u001b[32m[03/11/2018 18:12:21 INFO 139792706447168] gradient: cluster center took: 3.9157%, (0.032769 secs)\u001b[0m\n",
      "\u001b[32m[03/11/2018 18:12:21 INFO 139792706447168] compute all data-center distances: inner product took: 3.6390%, (0.030453 secs)\u001b[0m\n",
      "\u001b[32m[03/11/2018 18:12:21 INFO 139792706447168] update state and report convergance took: 1.2906%, (0.010800 secs)\u001b[0m\n",
      "\u001b[32m[03/11/2018 18:12:21 INFO 139792706447168] splitting centers key-value pair took: 1.0767%, (0.009011 secs)\u001b[0m\n",
      "\u001b[32m[03/11/2018 18:12:21 INFO 139792706447168] gradient: one_hot took: 0.8198%, (0.006861 secs)\u001b[0m\n",
      "\u001b[32m[03/11/2018 18:12:21 INFO 139792706447168] predict minus dist took: 0.1312%, (0.001098 secs)\u001b[0m\n",
      "\u001b[32m[03/11/2018 18:12:21 INFO 139792706447168] update set-up time took: 0.1144%, (0.000957 secs)\u001b[0m\n",
      "\u001b[32m[03/11/2018 18:12:21 INFO 139792706447168] TOTAL took: 0.836870908737\u001b[0m\n",
      "\u001b[32m[03/11/2018 18:12:21 INFO 139792706447168] Number of GPUs being used: 0\u001b[0m\n",
      "\u001b[32m[03/11/2018 18:12:21 INFO 139792706447168] No model is serialized on a non-master node\u001b[0m\n",
      "\u001b[32m#metrics {\"Metrics\": {\"finalize.time\": {\"count\": 1, \"max\": 278.5499095916748, \"sum\": 278.5499095916748, \"min\": 278.5499095916748}, \"initialize.time\": {\"count\": 1, \"max\": 20.726919174194336, \"sum\": 20.726919174194336, \"min\": 20.726919174194336}, \"model.serialize.time\": {\"count\": 1, \"max\": 0.19598007202148438, \"sum\": 0.19598007202148438, \"min\": 0.19598007202148438}, \"update.time\": {\"count\": 1, \"max\": 841.0890102386475, \"sum\": 841.0890102386475, \"min\": 841.0890102386475}, \"epochs\": {\"count\": 1, \"max\": 1, \"sum\": 1.0, \"min\": 1}, \"state.serialize.time\": {\"count\": 1, \"max\": 0.4730224609375, \"sum\": 0.4730224609375, \"min\": 0.4730224609375}, \"_shrink.time\": {\"count\": 1, \"max\": 275.958776473999, \"sum\": 275.958776473999, \"min\": 275.958776473999}}, \"EndTime\": 1520791941.107133, \"Dimensions\": {\"Host\": \"algo-2\", \"Operation\": \"training\", \"Algorithm\": \"AWS/KMeansWebscale\"}, \"StartTime\": 1520791939.946945}\n",
      "\u001b[0m\n",
      "\u001b[32m[03/11/2018 18:12:21 INFO 139792706447168] Test data was not provided.\u001b[0m\n",
      "\u001b[32m#metrics {\"Metrics\": {\"totaltime\": {\"count\": 1, \"max\": 1617.1438694000244, \"sum\": 1617.1438694000244, \"min\": 1617.1438694000244}, \"setuptime\": {\"count\": 1, \"max\": 17.340898513793945, \"sum\": 17.340898513793945, \"min\": 17.340898513793945}}, \"EndTime\": 1520791941.109156, \"Dimensions\": {\"Host\": \"algo-2\", \"Operation\": \"training\", \"Algorithm\": \"AWS/KMeansWebscale\"}, \"StartTime\": 1520791941.107219}\n",
      "\u001b[0m\n",
      "\u001b[31m[03/11/2018 18:12:21 INFO 139886977390400] local kmeans attempt #6. Current mean square distance 11.724775\u001b[0m\n",
      "\u001b[31m[03/11/2018 18:12:21 INFO 139886977390400] local kmeans attempt #7. Current mean square distance 11.460341\u001b[0m\n",
      "\u001b[31m[03/11/2018 18:12:21 INFO 139886977390400] local kmeans attempt #8. Current mean square distance 12.040250\u001b[0m\n",
      "\u001b[31m[03/11/2018 18:12:21 INFO 139886977390400] local kmeans attempt #9. Current mean square distance 11.461305\u001b[0m\n",
      "\u001b[31m[03/11/2018 18:12:21 INFO 139886977390400] finished shrinking process. Mean Square Distance = 11\u001b[0m\n",
      "\u001b[31m[03/11/2018 18:12:21 INFO 139886977390400] compute all data-center distances: point norm took: 36.1828%, (0.304496 secs)\u001b[0m\n",
      "\u001b[31m[03/11/2018 18:12:21 INFO 139886977390400] batch data loading with context took: 24.3898%, (0.205252 secs)\u001b[0m\n",
      "\u001b[31m[03/11/2018 18:12:21 INFO 139886977390400] predict compute msd took: 8.1741%, (0.068789 secs)\u001b[0m\n",
      "\u001b[31m[03/11/2018 18:12:21 INFO 139886977390400] compute all data-center distances: center norm took: 8.1019%, (0.068181 secs)\u001b[0m\n",
      "\u001b[31m[03/11/2018 18:12:21 INFO 139886977390400] compute all data-center distances: inner product took: 5.3353%, (0.044899 secs)\u001b[0m\n",
      "\u001b[31m[03/11/2018 18:12:21 INFO 139886977390400] gradient: cluster size  took: 4.8236%, (0.040593 secs)\u001b[0m\n",
      "\u001b[31m[03/11/2018 18:12:21 INFO 139886977390400] collect from kv store took: 4.5545%, (0.038328 secs)\u001b[0m\n",
      "\u001b[31m[03/11/2018 18:12:21 INFO 139886977390400] gradient: cluster center took: 4.2581%, (0.035834 secs)\u001b[0m\n",
      "\u001b[31m[03/11/2018 18:12:21 INFO 139886977390400] update state and report convergance took: 1.6015%, (0.013478 secs)\u001b[0m\n",
      "\u001b[31m[03/11/2018 18:12:21 INFO 139886977390400] gradient: one_hot took: 1.2328%, (0.010375 secs)\u001b[0m\n",
      "\u001b[31m[03/11/2018 18:12:21 INFO 139886977390400] splitting centers key-value pair took: 1.1865%, (0.009985 secs)\u001b[0m\n",
      "\u001b[31m[03/11/2018 18:12:21 INFO 139886977390400] predict minus dist took: 0.1380%, (0.001161 secs)\u001b[0m\n",
      "\u001b[31m[03/11/2018 18:12:21 INFO 139886977390400] update set-up time took: 0.0210%, (0.000177 secs)\u001b[0m\n",
      "\u001b[31m[03/11/2018 18:12:21 INFO 139886977390400] TOTAL took: 0.841547727585\u001b[0m\n",
      "\u001b[31m[03/11/2018 18:12:21 INFO 139886977390400] Number of GPUs being used: 0\u001b[0m\n",
      "\u001b[31m#metrics {\"Metrics\": {\"finalize.time\": {\"count\": 1, \"max\": 356.95505142211914, \"sum\": 356.95505142211914, \"min\": 356.95505142211914}, \"initialize.time\": {\"count\": 1, \"max\": 20.13993263244629, \"sum\": 20.13993263244629, \"min\": 20.13993263244629}, \"model.serialize.time\": {\"count\": 1, \"max\": 0.3180503845214844, \"sum\": 0.3180503845214844, \"min\": 0.3180503845214844}, \"update.time\": {\"count\": 1, \"max\": 845.9749221801758, \"sum\": 845.9749221801758, \"min\": 845.9749221801758}, \"epochs\": {\"count\": 1, \"max\": 1, \"sum\": 1.0, \"min\": 1}, \"state.serialize.time\": {\"count\": 1, \"max\": 0.45800209045410156, \"sum\": 0.45800209045410156, \"min\": 0.45800209045410156}, \"_shrink.time\": {\"count\": 1, \"max\": 354.7961711883545, \"sum\": 354.7961711883545, \"min\": 354.7961711883545}}, \"EndTime\": 1520791941.19715, \"Dimensions\": {\"Host\": \"algo-1\", \"Operation\": \"training\", \"Algorithm\": \"AWS/KMeansWebscale\"}, \"StartTime\": 1520791939.958948}\n",
      "\u001b[0m\n",
      "\u001b[31m[03/11/2018 18:12:21 INFO 139886977390400] Test data was not provided.\u001b[0m\n",
      "\u001b[31m#metrics {\"Metrics\": {\"totaltime\": {\"count\": 1, \"max\": 2385.579824447632, \"sum\": 2385.579824447632, \"min\": 2385.579824447632}, \"setuptime\": {\"count\": 1, \"max\": 26.75485610961914, \"sum\": 26.75485610961914, \"min\": 26.75485610961914}}, \"EndTime\": 1520791941.199735, \"Dimensions\": {\"Host\": \"algo-1\", \"Operation\": \"training\", \"Algorithm\": \"AWS/KMeansWebscale\"}, \"StartTime\": 1520791941.197256}\n",
      "\u001b[0m\n"
     ]
    },
    {
     "name": "stdout",
     "output_type": "stream",
     "text": [
      "===== Job Complete =====\n",
      "CPU times: user 7.92 s, sys: 468 ms, total: 8.38 s\n",
      "Wall time: 7min 53s\n"
     ]
    }
   ],
   "source": [
    "%%time\n",
    "\n",
    "kmeans.fit(kmeans.record_set(train_set[0]))"
   ]
  },
  {
   "cell_type": "markdown",
   "metadata": {},
   "source": [
    "## Set up hosting for the model\n",
    "Now, we can deploy the model we just trained behind a real-time hosted endpoint.  This next step can take, on average, 7 to 11 minutes to complete."
   ]
  },
  {
   "cell_type": "code",
   "execution_count": 6,
   "metadata": {},
   "outputs": [
    {
     "name": "stderr",
     "output_type": "stream",
     "text": [
      "INFO:sagemaker:Creating model with name: kmeans-2018-03-11-18-14-58-035\n",
      "INFO:sagemaker:Creating endpoint with name kmeans-2018-03-11-18-06-34-718\n"
     ]
    },
    {
     "name": "stdout",
     "output_type": "stream",
     "text": [
      "-------------------------------------------------------------------------------------------------------------------------!CPU times: user 548 ms, sys: 16 ms, total: 564 ms\n",
      "Wall time: 10min 29s\n"
     ]
    }
   ],
   "source": [
    "%%time\n",
    "\n",
    "kmeans_predictor = kmeans.deploy(initial_instance_count=1,\n",
    "                                 instance_type='ml.m4.xlarge')"
   ]
  },
  {
   "cell_type": "markdown",
   "metadata": {},
   "source": [
    "## Validate the model for use\n",
    "Finally, we'll validate the model for use. Let's generate a classification for a single observation from the trained model using the endpoint we just created."
   ]
  },
  {
   "cell_type": "code",
   "execution_count": 7,
   "metadata": {},
   "outputs": [
    {
     "name": "stdout",
     "output_type": "stream",
     "text": [
      "[label {\n",
      "  key: \"closest_cluster\"\n",
      "  value {\n",
      "    float32_tensor {\n",
      "      values: 7.0\n",
      "    }\n",
      "  }\n",
      "}\n",
      "label {\n",
      "  key: \"distance_to_cluster\"\n",
      "  value {\n",
      "    float32_tensor {\n",
      "      values: 7.18982458114624\n",
      "    }\n",
      "  }\n",
      "}\n",
      "]\n"
     ]
    }
   ],
   "source": [
    "result = kmeans_predictor.predict(train_set[0][30:31])\n",
    "print(result)"
   ]
  },
  {
   "cell_type": "markdown",
   "metadata": {},
   "source": [
    "OK, a single prediction works.\n",
    "\n",
    "Let's do a whole batch and see how well the clustering works."
   ]
  },
  {
   "cell_type": "code",
   "execution_count": 8,
   "metadata": {},
   "outputs": [
    {
     "name": "stdout",
     "output_type": "stream",
     "text": [
      "CPU times: user 24 ms, sys: 0 ns, total: 24 ms\n",
      "Wall time: 274 ms\n"
     ]
    }
   ],
   "source": [
    "%%time \n",
    "\n",
    "result = kmeans_predictor.predict(valid_set[0][0:100])\n",
    "clusters = [r.label['closest_cluster'].float32_tensor.values[0] for r in result]"
   ]
  },
  {
   "cell_type": "code",
   "execution_count": 9,
   "metadata": {
    "scrolled": false
   },
   "outputs": [
    {
     "name": "stdout",
     "output_type": "stream",
     "text": [
      "\n",
      "\n",
      "\n",
      "Cluster 0:\n"
     ]
    },
    {
     "data": {
      "image/png": "[encoded data removed]",
      "text/plain": [
       "<matplotlib.figure.Figure at 0x7f8e7d1095c0>"
      ]
     },
     "metadata": {},
     "output_type": "display_data"
    },
    {
     "name": "stdout",
     "output_type": "stream",
     "text": [
      "\n",
      "\n",
      "\n",
      "Cluster 1:\n"
     ]
    },
    {
     "data": {
      "image/png": "[encoded data removed]",
      "text/plain": [
       "<matplotlib.figure.Figure at 0x7f8e7d171908>"
      ]
     },
     "metadata": {},
     "output_type": "display_data"
    },
    {
     "name": "stdout",
     "output_type": "stream",
     "text": [
      "\n",
      "\n",
      "\n",
      "Cluster 2:\n"
     ]
    },
    {
     "data": {
      "image/png": "[encoded data removed]",
      "text/plain": [
       "<matplotlib.figure.Figure at 0x7f8e7ce9c320>"
      ]
     },
     "metadata": {},
     "output_type": "display_data"
    },
    {
     "name": "stdout",
     "output_type": "stream",
     "text": [
      "\n",
      "\n",
      "\n",
      "Cluster 3:\n"
     ]
    },
    {
     "data": {
      "image/png": "[encoded data removed]",
      "text/plain": [
       "<matplotlib.figure.Figure at 0x7f8e7fa17be0>"
      ]
     },
     "metadata": {},
     "output_type": "display_data"
    },
    {
     "name": "stdout",
     "output_type": "stream",
     "text": [
      "\n",
      "\n",
      "\n",
      "Cluster 4:\n"
     ]
    },
    {
     "data": {
      "image/png": "[encoded data removed]",
      "text/plain": [
       "<matplotlib.figure.Figure at 0x7f8e7c882828>"
      ]
     },
     "metadata": {},
     "output_type": "display_data"
    },
    {
     "name": "stdout",
     "output_type": "stream",
     "text": [
      "\n",
      "\n",
      "\n",
      "Cluster 5:\n"
     ]
    },
    {
     "data": {
      "image/png": "[encoded data removed]",
      "text/plain": [
       "<matplotlib.figure.Figure at 0x7f8e7c64f518>"
      ]
     },
     "metadata": {},
     "output_type": "display_data"
    },
    {
     "name": "stdout",
     "output_type": "stream",
     "text": [
      "\n",
      "\n",
      "\n",
      "Cluster 6:\n"
     ]
    },
    {
     "data": {
      "image/png": "[encoded data removed]",
      "text/plain": [
       "<matplotlib.figure.Figure at 0x7f8e7c42aef0>"
      ]
     },
     "metadata": {},
     "output_type": "display_data"
    },
    {
     "name": "stdout",
     "output_type": "stream",
     "text": [
      "\n",
      "\n",
      "\n",
      "Cluster 7:\n"
     ]
    },
    {
     "data": {
      "image/png": "[encoded data removed]",
      "text/plain": [
       "<matplotlib.figure.Figure at 0x7f8e7cdc1c18>"
      ]
     },
     "metadata": {},
     "output_type": "display_data"
    },
    {
     "name": "stdout",
     "output_type": "stream",
     "text": [
      "\n",
      "\n",
      "\n",
      "Cluster 8:\n"
     ]
    },
    {
     "data": {
      "image/png": "[encoded data removed]",
      "text/plain": [
       "<matplotlib.figure.Figure at 0x7f8e7c93d588>"
      ]
     },
     "metadata": {},
     "output_type": "display_data"
    },
    {
     "name": "stdout",
     "output_type": "stream",
     "text": [
      "\n",
      "\n",
      "\n",
      "Cluster 9:\n"
     ]
    },
    {
     "data": {
      "image/png": "[encoded data removed]",
      "text/plain": [
       "<matplotlib.figure.Figure at 0x7f8e9c04d9e8>"
      ]
     },
     "metadata": {},
     "output_type": "display_data"
    }
   ],
   "source": [
    "for cluster in range(10):\n",
    "    print('\\n\\n\\nCluster {}:'.format(int(cluster)))\n",
    "    digits = [ img for l, img in zip(clusters, valid_set[0]) if int(l) == cluster ]\n",
    "    height=((len(digits)-1)//5)+1\n",
    "    width=5\n",
    "    plt.rcParams[\"figure.figsize\"] = (width,height)\n",
    "    _, subplots = plt.subplots(height, width)\n",
    "    subplots=numpy.ndarray.flatten(subplots)\n",
    "    for subplot, image in zip(subplots, digits):\n",
    "        show_digit(image, subplot=subplot)\n",
    "    for subplot in subplots[len(digits):]:\n",
    "        subplot.axis('off')\n",
    "\n",
    "    plt.show()"
   ]
  },
  {
   "cell_type": "markdown",
   "metadata": {},
   "source": [
    "### The bottom line\n",
    "\n",
    "K-Means clustering is not the best algorithm for image analysis problems, but we do see pretty reasonable clusters being built."
   ]
  },
  {
   "cell_type": "markdown",
   "metadata": {},
   "source": [
    "### (Optional) Delete the Endpoint\n",
    "If you're ready to be done with this notebook, make sure run the cell below.  This will remove the hosted endpoint you created and avoid any charges from a stray instance being left on."
   ]
  },
  {
   "cell_type": "code",
   "execution_count": null,
   "metadata": {
    "collapsed": true
   },
   "outputs": [],
   "source": [
    "print(kmeans_predictor.endpoint)"
   ]
  },
  {
   "cell_type": "code",
   "execution_count": null,
   "metadata": {
    "collapsed": true
   },
   "outputs": [],
   "source": [
    "import sagemaker\n",
    "sagemaker.Session().delete_endpoint(kmeans_predictor.endpoint)"
   ]
  }
 ],
 "metadata": {
  "kernelspec": {
   "display_name": "conda_python3",
   "language": "python",
   "name": "conda_python3"
  },
  "language_info": {
   "codemirror_mode": {
    "name": "ipython",
    "version": 3
   },
   "file_extension": ".py",
   "mimetype": "text/x-python",
   "name": "python",
   "nbconvert_exporter": "python",
   "pygments_lexer": "ipython3",
   "version": "3.6.2"
  },
  "notice": "Copyright 2017 Amazon.com, Inc. or its affiliates. All Rights Reserved.  Licensed under the Apache License, Version 2.0 (the \"License\"). You may not use this file except in compliance with the License. A copy of the License is located at http://aws.amazon.com/apache2.0/ or in the \"license\" file accompanying this file. This file is distributed on an \"AS IS\" BASIS, WITHOUT WARRANTIES OR CONDITIONS OF ANY KIND, either express or implied. See the License for the specific language governing permissions and limitations under the License."
 },
 "nbformat": 4,
 "nbformat_minor": 2
}
