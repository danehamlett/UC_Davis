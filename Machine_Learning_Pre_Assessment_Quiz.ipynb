{
 "cells": [
  {
   "cell_type": "code",
   "execution_count": 1,
   "metadata": {},
   "outputs": [
    {
     "name": "stderr",
     "output_type": "stream",
     "text": [
      "/Library/Frameworks/Python.framework/Versions/3.6/lib/python3.6/site-packages/statsmodels/compat/pandas.py:56: FutureWarning: The pandas.core.datetools module is deprecated and will be removed in a future version. Please use the pandas.tseries module instead.\n",
      "  from pandas.core import datetools\n"
     ]
    }
   ],
   "source": [
    "### Import required packages\n",
    "import pandas as pd\n",
    "import numpy as np\n",
    "import matplotlib.pyplot as plt\n",
    "import statsmodels.api as sm\n",
    "import statsmodels.formula.api as smf"
   ]
  },
  {
   "cell_type": "code",
   "execution_count": 2,
   "metadata": {
    "collapsed": true
   },
   "outputs": [
    {
     "name": "stdout",
     "output_type": "stream",
     "text": [
      "    Price  Sales\n",
      "0    0.50    181\n",
      "1    1.35     33\n",
      "2    0.79     91\n",
      "3    1.71     13\n",
      "4    1.38     34\n",
      "5    1.22     47\n",
      "6    1.03     73\n",
      "7    1.84     11\n",
      "8    1.73     15\n",
      "9    1.62     20\n",
      "10   0.76     91\n",
      "11   1.79     13\n",
      "12   1.57     22\n",
      "13   1.27     34\n",
      "14   0.96     74\n",
      "15   0.52    164\n",
      "16   0.64    129\n",
      "17   1.05     55\n",
      "18   0.72    107\n",
      "19   0.75    119\n"
     ]
    }
   ],
   "source": [
    "### 1.  Loading data into Pandas\n",
    "## Import raw data from GitHub\n",
    "url = 'https://raw.githubusercontent.com/danehamlett/UC_Davis/master/Price_vs_Sales.csv'\n",
    "df = pd.read_csv(url)\n",
    "\n",
    "## View raw data\n",
    "print(df)"
   ]
  },
  {
   "cell_type": "code",
   "execution_count": 4,
   "metadata": {
    "collapsed": true
   },
   "outputs": [
    {
     "name": "stdout",
     "output_type": "stream",
     "text": [
      "    Price  Sales  Log_Sales\n",
      "0    0.50    181   2.257679\n",
      "1    1.35     33   1.518514\n",
      "2    0.79     91   1.959041\n",
      "3    1.71     13   1.113943\n",
      "4    1.38     34   1.531479\n",
      "5    1.22     47   1.672098\n",
      "6    1.03     73   1.863323\n",
      "7    1.84     11   1.041393\n",
      "8    1.73     15   1.176091\n",
      "9    1.62     20   1.301030\n",
      "10   0.76     91   1.959041\n",
      "11   1.79     13   1.113943\n",
      "12   1.57     22   1.342423\n",
      "13   1.27     34   1.531479\n",
      "14   0.96     74   1.869232\n",
      "15   0.52    164   2.214844\n",
      "16   0.64    129   2.110590\n",
      "17   1.05     55   1.740363\n",
      "18   0.72    107   2.029384\n",
      "19   0.75    119   2.075547\n"
     ]
    }
   ],
   "source": [
    "### 2.  Writing an apply function that transforms a column\n",
    "## Transform Sales column for linear regression modeling\n",
    "## Alternative Method: df['Log_Sales'] = np.log10(df['Sales'])\n",
    "df['Log_Sales'] = df.apply(lambda row: np.log10(row.Sales), axis=1)\n",
    "\n",
    "## View data\n",
    "print(df)"
   ]
  },
  {
   "cell_type": "code",
   "execution_count": 5,
   "metadata": {},
   "outputs": [
    {
     "data": {
      "image/png": "[encoded data removed]",
      "text/plain": [
       "<matplotlib.figure.Figure at 0x115797ef0>"
      ]
     },
     "metadata": {},
     "output_type": "display_data"
    }
   ],
   "source": [
    "### 3.  A basic Data Visualization using Seaborn or Plotly library or Matplotlib\n",
    "### Using matplotlib, show a basic visualization (scatter plot)\n",
    "\n",
    "## X and Y values\n",
    "x = df['Price']\n",
    "y = df['Sales']\n",
    "\n",
    "## Render the chart\n",
    "plt.plot(x, y, '.')\n",
    "plt.show()"
   ]
  },
  {
   "cell_type": "code",
   "execution_count": 6,
   "metadata": {},
   "outputs": [
    {
     "data": {
      "image/png": "[encoded data removed]",
      "text/plain": [
       "<matplotlib.figure.Figure at 0x115811ac8>"
      ]
     },
     "metadata": {},
     "output_type": "display_data"
    }
   ],
   "source": [
    "### 4.  Some type of Machine Learning technique on the data - Linear Regression\n",
    "## X and Transformed Y values\n",
    "x = df['Price']\n",
    "y_log = df['Log_Sales']\n",
    "\n",
    "## Render the chart\n",
    "plt.plot(x, y_log, '.')\n",
    "\n",
    "## Create a scatter plot with a linear regression trend line\n",
    "m, b = np.polyfit(x, y_log, 1)\n",
    "plt.plot(x, m*x + b, '-')\n",
    "plt.show()"
   ]
  },
  {
   "cell_type": "code",
   "execution_count": 7,
   "metadata": {},
   "outputs": [
    {
     "name": "stdout",
     "output_type": "stream",
     "text": [
      "                            OLS Regression Results                            \n",
      "==============================================================================\n",
      "Dep. Variable:              Log_Sales   R-squared:                       0.989\n",
      "Model:                            OLS   Adj. R-squared:                  0.988\n",
      "Method:                 Least Squares   F-statistic:                     1604.\n",
      "Date:                Thu, 28 Dec 2017   Prob (F-statistic):           4.75e-19\n",
      "Time:                        23:57:05   Log-Likelihood:                 35.802\n",
      "No. Observations:                  20   AIC:                            -67.60\n",
      "Df Residuals:                      18   BIC:                            -65.61\n",
      "Df Model:                           1                                         \n",
      "Covariance Type:            nonrobust                                         \n",
      "==============================================================================\n",
      "                 coef    std err          t      P>|t|      [0.025      0.975]\n",
      "------------------------------------------------------------------------------\n",
      "const          2.6846      0.027     99.293      0.000       2.628       2.741\n",
      "Price         -0.8738      0.022    -40.053      0.000      -0.920      -0.828\n",
      "==============================================================================\n",
      "Omnibus:                        0.433   Durbin-Watson:                   2.039\n",
      "Prob(Omnibus):                  0.805   Jarque-Bera (JB):                0.536\n",
      "Skew:                           0.047   Prob(JB):                        0.765\n",
      "Kurtosis:                       2.203   Cond. No.                         5.63\n",
      "==============================================================================\n",
      "\n",
      "Warnings:\n",
      "[1] Standard Errors assume that the covariance matrix of the errors is correctly specified.\n"
     ]
    }
   ],
   "source": [
    "## Run a regression model\n",
    "x = sm.add_constant(x, prepend=True)\n",
    "results = smf.OLS(y_log,x).fit()\n",
    "print(results.summary())"
   ]
  }
 ],
 "metadata": {
  "kernelspec": {
   "display_name": "Python 3",
   "language": "python",
   "name": "python3"
  },
  "language_info": {
   "codemirror_mode": {
    "name": "ipython",
    "version": 3
   },
   "file_extension": ".py",
   "mimetype": "text/x-python",
   "name": "python",
   "nbconvert_exporter": "python",
   "pygments_lexer": "ipython3",
   "version": "3.6.2"
  }
 },
 "nbformat": 4,
 "nbformat_minor": 2
}
