{
 "cells": [
  {
   "cell_type": "markdown",
   "metadata": {},
   "source": [
    "# Homework Assignment #2\n",
    "BAX 423 | Dane Hamlett"
   ]
  },
  {
   "cell_type": "markdown",
   "metadata": {},
   "source": [
    "## Part I\n",
    "\n",
    "### Create XML Schema"
   ]
  },
  {
   "cell_type": "code",
   "execution_count": null,
   "metadata": {},
   "outputs": [],
   "source": [
    "<xs:schema attributeFormDefault=\"unqualified\" elementFormDefault=\"qualified\"\n",
    "    xmlns:xs=\"http://www.w3.org/2001/XMLSchema\">\n",
    "  <xs:element name=\"catalog\">\n",
    "    <xs:complexType>\n",
    "      <xs:sequence>\n",
    "        <xs:element name=\"book\">\n",
    "          <xs:complexType>\n",
    "            <xs:sequence>\n",
    "              <xs:element type=\"xs:string\" name=\"author\"/>\n",
    "              <xs:element type=\"xs:string\" name=\"title\"/>\n",
    "              <xs:element type=\"xs:string\" name=\"genre\"/>\n",
    "              <xs:element type=\"xs:float\" name=\"price\"/>\n",
    "              <xs:element type=\"xs:date\" name=\"publish_date\"/>\n",
    "              <xs:element type=\"xs:string\" name=\"description\"/>\n",
    "            </xs:sequence>\n",
    "            <xs:attribute type=\"xs:string\" name=\"id\"/>\n",
    "          </xs:complexType>\n",
    "        </xs:element>\n",
    "      </xs:sequence>\n",
    "    </xs:complexType>\n",
    "  </xs:element>\n",
    "</xs:schema>"
   ]
  },
  {
   "cell_type": "markdown",
   "metadata": {},
   "source": [
    "### Create XML File"
   ]
  },
  {
   "cell_type": "code",
   "execution_count": 49,
   "metadata": {},
   "outputs": [],
   "source": [
    "xml_file = \"\"\"\n",
    "<catalog>\n",
    "  <book id=\"bk102\">\n",
    "     <author>Ralls, Kim</author>\n",
    "     <title>Midnight Rain</title>\n",
    "     <genre>Fantasy</genre>\n",
    "     <price>5.95</price>\n",
    "     <publish_date>2000-12-16</publish_date>\n",
    "     <description>A former architect battles corporate zombies, \n",
    "     an evil sorceress, and her own childhood to become queen \n",
    "     of the world.</description>\n",
    "  </book>\n",
    "</catalog>\n",
    "\"\"\""
   ]
  },
  {
   "cell_type": "markdown",
   "metadata": {},
   "source": [
    "### Parse XML File and Retrieve Price"
   ]
  },
  {
   "cell_type": "code",
   "execution_count": 94,
   "metadata": {},
   "outputs": [
    {
     "name": "stdout",
     "output_type": "stream",
     "text": [
      "Price: 5.95\n"
     ]
    }
   ],
   "source": [
    "## Import Libraries\n",
    "import xml.etree.ElementTree as et\n",
    "\n",
    "## Parse XML\n",
    "root = et.fromstring(xml_file)\n",
    "for book in root.findall('book'):\n",
    "    price = book.find('price').text\n",
    "    print('Price: ' + price)"
   ]
  },
  {
   "cell_type": "markdown",
   "metadata": {},
   "source": [
    "## Part II\n",
    "\n",
    "### JSON Exercise"
   ]
  },
  {
   "cell_type": "code",
   "execution_count": 98,
   "metadata": {
    "scrolled": false
   },
   "outputs": [
    {
     "name": "stdout",
     "output_type": "stream",
     "text": [
      "Record Count = 100\n",
      "row = (1, 1, 'sunt aut facere repellat provident occaecati excepturi optio reprehenderit', 'quia et suscipit\\nsuscipit recusandae consequuntur expedita et cum\\nreprehenderit molestiae ut ut quas totam\\nnostrum rerum est autem sunt rem eveniet architecto')\n",
      "Record Count = 100\n"
     ]
    }
   ],
   "source": [
    "## Import Libraries\n",
    "import urllib.request\n",
    "import json\n",
    "import pymssql\n",
    "\n",
    "## Establish Connection to Local SQL Server Instance, Open Cursor, and Truncate Table\n",
    "## IP Address and Password Obfuscated for Security Purposes\n",
    "conn = pymssql.connect(host='XXX.X.XXX.XXX:2015', user='svc_hopper', password='XXXXXX', database='UCDavisDB')\n",
    "cursor = conn.cursor()\n",
    "cursor.execute('TRUNCATE TABLE [UCDavisDB].[dbo].[JSON_Table]')\n",
    "\n",
    "## Establish Base API URL and an Empty List to House API Results\n",
    "base_url = 'https://jsonplaceholder.typicode.com/posts'\n",
    "results = []\n",
    "\n",
    "## Confirm that the API Call Returns 100 Records\n",
    "with urllib.request.urlopen(base_url) as url:\n",
    "    data = json.loads(url.read().decode())\n",
    "    length = len(data)\n",
    "    print('Record Count = ' + str(length))\n",
    "\n",
    "## Loop Through API Results, and Generate Rows to be Loaded into SQL Server\n",
    "    for i,o in enumerate(data):\n",
    "        userId = o['userId']\n",
    "        id = o['id']\n",
    "        title = o['title']\n",
    "        body = o['body']\n",
    "        row = userId, id, title, body\n",
    "        results.append(row)\n",
    "\n",
    "## Insert Records into SQL Server, and Commit the Command\n",
    "cursor.executemany(\"INSERT INTO [UCDavisDB].[dbo].[JSON_Table] VALUES (%d, %d, %s, %s)\", results)\n",
    "conn.commit()\n",
    "\n",
    "## Sample the Results\n",
    "cursor.execute('SELECT TOP 1 * FROM [UCDavisDB].[dbo].[JSON_Table]')\n",
    "for row in cursor:\n",
    "    print('row = %r' % (row,))\n",
    "    \n",
    "## Confirm 100 Records Loaded\n",
    "cursor.execute('SELECT COUNT(*) FROM [UCDavisDB].[dbo].[JSON_Table]')\n",
    "for row in cursor:\n",
    "    print('Record Count = %r' % (row))\n",
    "\n",
    "## Close the Connection\n",
    "conn.close()"
   ]
  },
  {
   "cell_type": "markdown",
   "metadata": {},
   "source": [
    "### References\n",
    "\n",
    "- API Reference: https://jsonplaceholder.typicode.com/\n",
    "- PYMSSQL Python/SQL Server Library: http://pymssql.org/en/stable/pymssql_examples.html"
   ]
  }
 ],
 "metadata": {
  "kernelspec": {
   "display_name": "Python 3",
   "language": "python",
   "name": "python3"
  },
  "language_info": {
   "codemirror_mode": {
    "name": "ipython",
    "version": 3
   },
   "file_extension": ".py",
   "mimetype": "text/x-python",
   "name": "python",
   "nbconvert_exporter": "python",
   "pygments_lexer": "ipython3",
   "version": "3.6.2"
  }
 },
 "nbformat": 4,
 "nbformat_minor": 2
}
