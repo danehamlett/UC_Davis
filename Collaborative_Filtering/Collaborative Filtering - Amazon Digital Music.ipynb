{
 "cells": [
  {
   "cell_type": "markdown",
   "metadata": {},
   "source": [
    "# Collaborative Filtering - Amazon Digital Music\n",
    "Dane Hamlett, UC Davis MSBA '18"
   ]
  },
  {
   "cell_type": "markdown",
   "metadata": {},
   "source": [
    "<p id=\"toc\"></p>\n",
    "## Table of Contents\n",
    "\n",
    "   - <a href=\"#one\">Introduction</a>\n",
    "   - <a href=\"#two\">Import Libraries</a>\n",
    "   - <a href=\"#three\">Import Data</a>\n",
    "   - <a href=\"#four\">Explore Data</a>\n",
    "   - <a href=\"#five\">Build Recomendation Model & Validate Results</a>"
   ]
  },
  {
   "cell_type": "markdown",
   "metadata": {},
   "source": [
    "<hr style=\"width:50%;\">\n",
    "## <a id=\"one\">Introduction</a>\n",
    "<p><a href=\"#toc\">Jump to top</a></p>\n",
    "<br>\n",
    "Collaborative filtering is one of the most powerful approaches to recomendation modeling. Collaborative filtering (CF) has also been referred to as social filtering, as the primary intent of the model is to filter information by the recommendations of other people.\n",
    "\n",
    "CF is based on the premise that people who have agreed on their evalations of specific items in the past, will most likely repeat that behavior in the future.  If someone asks for a recommendation for let's say a certain song, recommendations from close friends are often more likely to be taken into consideration than recommendations from an unknown source.\n",
    "\n",
    "In essence, CF predicts items based on the history of ratings that a specific user has given and the history of ratings given to a specific item.\n",
    "\n",
    "This analysis will aim to apply CF to an Amazon Digital Music ratings data set, to predict item ratings.\n",
    "\n",
    "<strong>References:</strong>\n",
    "- <a href=\"http://recommender-systems.org/collaborative-filtering/\" target=\"_blank\">Recommender Systems - Collaborative Filterng</a>\n",
    "- <a href=\"https://medium.com/@m_n_malaeb/the-easy-guide-for-building-python-collaborative-filtering-recommendation-system-in-2017-d2736d2e92a8\" target=\"_blank\">The easy guide for building python collaborative filtering recommendation system</a>\n",
    "- <a href=\"https://medium.com/human-in-a-machine-world/mae-and-rmse-which-metric-is-better-e60ac3bde13d\" target=\"_blank\">MAE and RMSE — Which Metric is Better?</a>\n",
    "- <a href=\"http://surpriselib.com/\" target=\"_blank\">Surprise | A Python scikit for recommender systems.</a>\n",
    "- <a href=\"http://jmcauley.ucsd.edu/data/amazon/\" target=\"_blank\">Amazon product data</a>"
   ]
  },
  {
   "cell_type": "markdown",
   "metadata": {},
   "source": [
    "<hr style=\"width:50%;\">\n",
    "## <a id=\"two\">Import Libraries</a>\n",
    "<p><a href=\"#toc\">Jump to top</a></p>"
   ]
  },
  {
   "cell_type": "code",
   "execution_count": 113,
   "metadata": {},
   "outputs": [],
   "source": [
    "import pandas as pd\n",
    "import warnings\n",
    "from surprise import NormalPredictor\n",
    "from surprise import Dataset\n",
    "from surprise import Reader\n",
    "from surprise.model_selection import cross_validate\n",
    "import matplotlib.pyplot as plt\n",
    "import seaborn as sns\n",
    "\n",
    "# Visualization specifications\n",
    "color = sns.color_palette()\n",
    "plt.style.use('ggplot')\n",
    "%matplotlib inline\n",
    "\n",
    "# Warning message supression\n",
    "warnings.simplefilter(\"ignore\")"
   ]
  },
  {
   "cell_type": "markdown",
   "metadata": {},
   "source": [
    "<hr style=\"width:50%;\">\n",
    "## <a id=\"three\">Import Data</a>\n",
    "<p><a href=\"#toc\">Jump to top</a></p>"
   ]
  },
  {
   "cell_type": "code",
   "execution_count": 114,
   "metadata": {},
   "outputs": [
    {
     "data": {
      "text/html": [
       "<div>\n",
       "<style>\n",
       "    .dataframe thead tr:only-child th {\n",
       "        text-align: right;\n",
       "    }\n",
       "\n",
       "    .dataframe thead th {\n",
       "        text-align: left;\n",
       "    }\n",
       "\n",
       "    .dataframe tbody tr th {\n",
       "        vertical-align: top;\n",
       "    }\n",
       "</style>\n",
       "<table border=\"1\" class=\"dataframe\">\n",
       "  <thead>\n",
       "    <tr style=\"text-align: right;\">\n",
       "      <th></th>\n",
       "      <th>userID</th>\n",
       "      <th>itemID</th>\n",
       "      <th>rating</th>\n",
       "      <th>timestamp</th>\n",
       "    </tr>\n",
       "  </thead>\n",
       "  <tbody>\n",
       "    <tr>\n",
       "      <th>0</th>\n",
       "      <td>A2EFCYXHNK06IS</td>\n",
       "      <td>5555991584</td>\n",
       "      <td>5.0</td>\n",
       "      <td>978480000</td>\n",
       "    </tr>\n",
       "    <tr>\n",
       "      <th>1</th>\n",
       "      <td>A1WR23ER5HMAA9</td>\n",
       "      <td>5555991584</td>\n",
       "      <td>5.0</td>\n",
       "      <td>953424000</td>\n",
       "    </tr>\n",
       "    <tr>\n",
       "      <th>2</th>\n",
       "      <td>A2IR4Q0GPAFJKW</td>\n",
       "      <td>5555991584</td>\n",
       "      <td>4.0</td>\n",
       "      <td>1393545600</td>\n",
       "    </tr>\n",
       "    <tr>\n",
       "      <th>3</th>\n",
       "      <td>A2V0KUVAB9HSYO</td>\n",
       "      <td>5555991584</td>\n",
       "      <td>4.0</td>\n",
       "      <td>966124800</td>\n",
       "    </tr>\n",
       "    <tr>\n",
       "      <th>4</th>\n",
       "      <td>A1J0GL9HCA7ELW</td>\n",
       "      <td>5555991584</td>\n",
       "      <td>5.0</td>\n",
       "      <td>1007683200</td>\n",
       "    </tr>\n",
       "  </tbody>\n",
       "</table>\n",
       "</div>"
      ],
      "text/plain": [
       "           userID      itemID  rating   timestamp\n",
       "0  A2EFCYXHNK06IS  5555991584     5.0   978480000\n",
       "1  A1WR23ER5HMAA9  5555991584     5.0   953424000\n",
       "2  A2IR4Q0GPAFJKW  5555991584     4.0  1393545600\n",
       "3  A2V0KUVAB9HSYO  5555991584     4.0   966124800\n",
       "4  A1J0GL9HCA7ELW  5555991584     5.0  1007683200"
      ]
     },
     "execution_count": 114,
     "metadata": {},
     "output_type": "execute_result"
    }
   ],
   "source": [
    "# Digital music data set - http://jmcauley.ucsd.edu/data/amazon/\n",
    "# Ratings only: These datasets include no metadata or reviews, but only (user,item,rating,timestamp) tuples. Thus they are suitable for use with mymedialite (or similar) packages.\n",
    "# Loading data into the surprise library from pandas\n",
    "songs = pd.read_csv(\"http://snap.stanford.edu/data/amazon/productGraph/categoryFiles/ratings_Digital_Music.csv\",header=None)\n",
    "songs.columns = ['userID', 'itemID', 'rating', 'timestamp']\n",
    "songs.head()"
   ]
  },
  {
   "cell_type": "markdown",
   "metadata": {},
   "source": [
    "<hr style=\"width:50%;\">\n",
    "## <a id=\"four\">Explore Data</a>\n",
    "<p><a href=\"#toc\">Jump to top</a></p>"
   ]
  },
  {
   "cell_type": "code",
   "execution_count": 115,
   "metadata": {},
   "outputs": [
    {
     "data": {
      "text/plain": [
       "userID       836006\n",
       "itemID       836006\n",
       "rating       836006\n",
       "timestamp    836006\n",
       "dtype: int64"
      ]
     },
     "execution_count": 115,
     "metadata": {},
     "output_type": "execute_result"
    }
   ],
   "source": [
    "songs.count()"
   ]
  },
  {
   "cell_type": "code",
   "execution_count": 116,
   "metadata": {},
   "outputs": [
    {
     "name": "stdout",
     "output_type": "stream",
     "text": [
      "<class 'pandas.core.frame.DataFrame'>\n",
      "RangeIndex: 836006 entries, 0 to 836005\n",
      "Data columns (total 4 columns):\n",
      "userID       836006 non-null object\n",
      "itemID       836006 non-null object\n",
      "rating       836006 non-null float64\n",
      "timestamp    836006 non-null int64\n",
      "dtypes: float64(1), int64(1), object(2)\n",
      "memory usage: 25.5+ MB\n"
     ]
    }
   ],
   "source": [
    "songs.info()"
   ]
  },
  {
   "cell_type": "code",
   "execution_count": 117,
   "metadata": {},
   "outputs": [
    {
     "data": {
      "text/html": [
       "<div>\n",
       "<style>\n",
       "    .dataframe thead tr:only-child th {\n",
       "        text-align: right;\n",
       "    }\n",
       "\n",
       "    .dataframe thead th {\n",
       "        text-align: left;\n",
       "    }\n",
       "\n",
       "    .dataframe tbody tr th {\n",
       "        vertical-align: top;\n",
       "    }\n",
       "</style>\n",
       "<table border=\"1\" class=\"dataframe\">\n",
       "  <thead>\n",
       "    <tr style=\"text-align: right;\">\n",
       "      <th></th>\n",
       "      <th>rating</th>\n",
       "      <th>timestamp</th>\n",
       "    </tr>\n",
       "  </thead>\n",
       "  <tbody>\n",
       "    <tr>\n",
       "      <th>count</th>\n",
       "      <td>836006.000000</td>\n",
       "      <td>8.360060e+05</td>\n",
       "    </tr>\n",
       "    <tr>\n",
       "      <th>mean</th>\n",
       "      <td>4.540250</td>\n",
       "      <td>1.296114e+09</td>\n",
       "    </tr>\n",
       "    <tr>\n",
       "      <th>std</th>\n",
       "      <td>0.958877</td>\n",
       "      <td>1.269207e+08</td>\n",
       "    </tr>\n",
       "    <tr>\n",
       "      <th>min</th>\n",
       "      <td>1.000000</td>\n",
       "      <td>8.852544e+08</td>\n",
       "    </tr>\n",
       "    <tr>\n",
       "      <th>25%</th>\n",
       "      <td>4.000000</td>\n",
       "      <td>1.244938e+09</td>\n",
       "    </tr>\n",
       "    <tr>\n",
       "      <th>50%</th>\n",
       "      <td>5.000000</td>\n",
       "      <td>1.358294e+09</td>\n",
       "    </tr>\n",
       "    <tr>\n",
       "      <th>75%</th>\n",
       "      <td>5.000000</td>\n",
       "      <td>1.381190e+09</td>\n",
       "    </tr>\n",
       "    <tr>\n",
       "      <th>max</th>\n",
       "      <td>5.000000</td>\n",
       "      <td>1.406074e+09</td>\n",
       "    </tr>\n",
       "  </tbody>\n",
       "</table>\n",
       "</div>"
      ],
      "text/plain": [
       "              rating     timestamp\n",
       "count  836006.000000  8.360060e+05\n",
       "mean        4.540250  1.296114e+09\n",
       "std         0.958877  1.269207e+08\n",
       "min         1.000000  8.852544e+08\n",
       "25%         4.000000  1.244938e+09\n",
       "50%         5.000000  1.358294e+09\n",
       "75%         5.000000  1.381190e+09\n",
       "max         5.000000  1.406074e+09"
      ]
     },
     "execution_count": 117,
     "metadata": {},
     "output_type": "execute_result"
    }
   ],
   "source": [
    "songs.describe()"
   ]
  },
  {
   "cell_type": "code",
   "execution_count": 118,
   "metadata": {},
   "outputs": [
    {
     "data": {
      "text/plain": [
       "array([ 5.,  4.,  3.,  1.,  2.])"
      ]
     },
     "execution_count": 118,
     "metadata": {},
     "output_type": "execute_result"
    }
   ],
   "source": [
    "# Confirm range of rating values\n",
    "songs.rating.unique()"
   ]
  },
  {
   "cell_type": "code",
   "execution_count": 119,
   "metadata": {},
   "outputs": [
    {
     "data": {
      "image/png": "[encoded data removed]",
      "text/plain": [
       "<matplotlib.figure.Figure at 0x111538748>"
      ]
     },
     "metadata": {},
     "output_type": "display_data"
    }
   ],
   "source": [
    "# Create a subset to analyze and confirm the distribution of the data\n",
    "df_histi = songs[['rating']].copy()\n",
    "pd.DataFrame.hist(df_histi, figsize = [17,9])\n",
    "plt.title('Digital Music Ratings Distribution')\n",
    "plt.xlabel('Rating (1-5)')\n",
    "plt.ylabel('Count')\n",
    "plt.show()"
   ]
  },
  {
   "cell_type": "markdown",
   "metadata": {},
   "source": [
    "<hr style=\"width:50%;\">\n",
    "## <a id=\"five\">Build Recomendation Model & Validate Results</a>\n",
    "<p><a href=\"#toc\">Jump to top</a></p>"
   ]
  },
  {
   "cell_type": "code",
   "execution_count": 120,
   "metadata": {},
   "outputs": [],
   "source": [
    "# Create a test data frame with a sample of 30 rows \n",
    "# songs_sample = songs.head(30)\n",
    "\n",
    "# A reader is still needed but only the rating_scale param is requiered.\n",
    "reader = Reader(rating_scale=(1, 5))\n",
    "\n",
    "# The columns must correspond to user id, item id and ratings (in that order).\n",
    "data = Dataset.load_from_df(songs[['userID', 'itemID', 'rating']], reader)\n",
    "\n",
    "# We can now use this dataset as we please, e.g. calling cross_validate\n",
    "# cross_validate(NormalPredictor(), data, cv=2)"
   ]
  },
  {
   "cell_type": "markdown",
   "metadata": {},
   "source": [
    "We will leverage the Singular Value Decomposition algorithm, to keep this exercise simple. We will also avoid leveraging any custom parameters. For this exercise we will split the data into 10 folds to train the algorithm."
   ]
  },
  {
   "cell_type": "code",
   "execution_count": 121,
   "metadata": {},
   "outputs": [
    {
     "name": "stdout",
     "output_type": "stream",
     "text": [
      "Evaluating RMSE, MAE of algorithm SVD.\n",
      "\n",
      "------------\n",
      "Fold 1\n",
      "RMSE: 0.8824\n",
      "MAE:  0.6066\n",
      "------------\n",
      "Fold 2\n",
      "RMSE: 0.8869\n",
      "MAE:  0.6096\n",
      "------------\n",
      "Fold 3\n",
      "RMSE: 0.8806\n",
      "MAE:  0.6077\n",
      "------------\n",
      "Fold 4\n",
      "RMSE: 0.8853\n",
      "MAE:  0.6095\n",
      "------------\n",
      "Fold 5\n",
      "RMSE: 0.8844\n",
      "MAE:  0.6102\n",
      "------------\n",
      "Fold 6\n",
      "RMSE: 0.8784\n",
      "MAE:  0.6054\n",
      "------------\n",
      "Fold 7\n",
      "RMSE: 0.8814\n",
      "MAE:  0.6076\n",
      "------------\n",
      "Fold 8\n",
      "RMSE: 0.8885\n",
      "MAE:  0.6095\n",
      "------------\n",
      "Fold 9\n",
      "RMSE: 0.8871\n",
      "MAE:  0.6098\n",
      "------------\n",
      "Fold 10\n",
      "RMSE: 0.8871\n",
      "MAE:  0.6099\n",
      "------------\n",
      "------------\n",
      "Mean RMSE: 0.8842\n",
      "Mean MAE : 0.6086\n",
      "------------\n",
      "------------\n"
     ]
    },
    {
     "data": {
      "text/plain": [
       "<surprise.prediction_algorithms.matrix_factorization.SVD at 0x1113ccd30>"
      ]
     },
     "execution_count": 121,
     "metadata": {},
     "output_type": "execute_result"
    }
   ],
   "source": [
    "# Split the dataset into 10 folds and choose the algorithm\n",
    "data.split(n_folds=10)\n",
    "algo = SVD()\n",
    "\n",
    "# Train and test reporting the RMSE and MAE scores\n",
    "evaluate(algo, data, measures=['RMSE', 'MAE'])\n",
    "\n",
    "# Retrieve the trainset.\n",
    "trainset = data.build_full_trainset()\n",
    "algo.fit(trainset)"
   ]
  },
  {
   "cell_type": "markdown",
   "metadata": {},
   "source": [
    "Now that the algorithm has been trained, let's generate some predictions."
   ]
  },
  {
   "cell_type": "code",
   "execution_count": 127,
   "metadata": {
    "scrolled": false
   },
   "outputs": [
    {
     "name": "stdout",
     "output_type": "stream",
     "text": [
      "user: A3HJS000P7AC0Q item: B00LTFDZXE r_ui = 5.00   est = 4.74   {'was_impossible': False}\n",
      "user: A1BSP3G2B7UNBK item: B00LTL4VGI r_ui = 5.00   est = 4.70   {'was_impossible': False}\n",
      "user: A3LV9NGAOMV9NN item: B00LWCRAQ2 r_ui = 5.00   est = 4.75   {'was_impossible': False}\n",
      "user: A1QP5WSKUYZUMG item: B00LWJDZHI r_ui = 5.00   est = 4.93   {'was_impossible': False}\n",
      "user: A3LWJETAAAD4OU item: B00LWJDZHI r_ui = 5.00   est = 4.93   {'was_impossible': False}\n",
      "user: A38NRGVVEF3950 item: B00LWJDZHI r_ui = 5.00   est = 4.84   {'was_impossible': False}\n",
      "user: A36ZEAXJ5HMQXA item: B00LWJDZHI r_ui = 5.00   est = 4.84   {'was_impossible': False}\n",
      "user: A1840L5R4OPDE4 item: B00LWJDZHI r_ui = 5.00   est = 4.83   {'was_impossible': False}\n",
      "user: A1HGHLLGGGAQZX item: B00LWJDZHI r_ui = 5.00   est = 4.83   {'was_impossible': False}\n",
      "user: A2SWE776KGEYPI item: B00LWJDZHI r_ui = 5.00   est = 4.84   {'was_impossible': False}\n"
     ]
    }
   ],
   "source": [
    "# Let's sample the model\n",
    "for index, row in songs.tail(10).iterrows():\n",
    "    print(algo.predict(row['userID'], row['itemID'], row['rating']))"
   ]
  },
  {
   "cell_type": "markdown",
   "metadata": {},
   "source": [
    "As we can see above, we have generated predictions that are fairly close to the actual ratings. We have leveraged Mean Absolute Error (MAE) and Root Mean Squared Error (RMSE) as metrics to assess overall accuracy of the algorithm. MAE specifically measures the average magnitude of the errors in a set of predictions, without considering their direction. It’s the average over the test sample of the absolute differences between prediction and actual observation where all individual differences have equal weight. While MAE may be minimized via algorithm tuning, we should be satisfied with the initial results."
   ]
  },
  {
   "cell_type": "code",
   "execution_count": 128,
   "metadata": {},
   "outputs": [
    {
     "data": {
      "text/html": [
       "<div>\n",
       "<style>\n",
       "    .dataframe thead tr:only-child th {\n",
       "        text-align: right;\n",
       "    }\n",
       "\n",
       "    .dataframe thead th {\n",
       "        text-align: left;\n",
       "    }\n",
       "\n",
       "    .dataframe tbody tr th {\n",
       "        vertical-align: top;\n",
       "    }\n",
       "</style>\n",
       "<table border=\"1\" class=\"dataframe\">\n",
       "  <thead>\n",
       "    <tr style=\"text-align: right;\">\n",
       "      <th></th>\n",
       "      <th>userID</th>\n",
       "      <th>itemID</th>\n",
       "      <th>rating</th>\n",
       "      <th>timestamp</th>\n",
       "    </tr>\n",
       "  </thead>\n",
       "  <tbody>\n",
       "    <tr>\n",
       "      <th>743674</th>\n",
       "      <td>A3LWJETAAAD4OU</td>\n",
       "      <td>B00BKOJG6E</td>\n",
       "      <td>5.0</td>\n",
       "      <td>1377820800</td>\n",
       "    </tr>\n",
       "    <tr>\n",
       "      <th>764865</th>\n",
       "      <td>A3LWJETAAAD4OU</td>\n",
       "      <td>B00CXVYZ82</td>\n",
       "      <td>5.0</td>\n",
       "      <td>1372118400</td>\n",
       "    </tr>\n",
       "    <tr>\n",
       "      <th>836000</th>\n",
       "      <td>A3LWJETAAAD4OU</td>\n",
       "      <td>B00LWJDZHI</td>\n",
       "      <td>5.0</td>\n",
       "      <td>1405987200</td>\n",
       "    </tr>\n",
       "  </tbody>\n",
       "</table>\n",
       "</div>"
      ],
      "text/plain": [
       "                userID      itemID  rating   timestamp\n",
       "743674  A3LWJETAAAD4OU  B00BKOJG6E     5.0  1377820800\n",
       "764865  A3LWJETAAAD4OU  B00CXVYZ82     5.0  1372118400\n",
       "836000  A3LWJETAAAD4OU  B00LWJDZHI     5.0  1405987200"
      ]
     },
     "execution_count": 128,
     "metadata": {},
     "output_type": "execute_result"
    }
   ],
   "source": [
    "# Let's look at one specific user\n",
    "songs_user = songs.loc[songs['userID'] == 'A3LWJETAAAD4OU']\n",
    "songs_user"
   ]
  },
  {
   "cell_type": "markdown",
   "metadata": {},
   "source": [
    "As we can see with the user above, they have given three ratings for three different songs, all with a rating of 5. With our predicted rating of 4.93 in the algorithm, it's safe to say we are on the right track."
   ]
  },
  {
   "cell_type": "code",
   "execution_count": 129,
   "metadata": {},
   "outputs": [
    {
     "data": {
      "text/html": [
       "<div>\n",
       "<style>\n",
       "    .dataframe thead tr:only-child th {\n",
       "        text-align: right;\n",
       "    }\n",
       "\n",
       "    .dataframe thead th {\n",
       "        text-align: left;\n",
       "    }\n",
       "\n",
       "    .dataframe tbody tr th {\n",
       "        vertical-align: top;\n",
       "    }\n",
       "</style>\n",
       "<table border=\"1\" class=\"dataframe\">\n",
       "  <thead>\n",
       "    <tr style=\"text-align: right;\">\n",
       "      <th></th>\n",
       "      <th>userID</th>\n",
       "      <th>itemID</th>\n",
       "      <th>rating</th>\n",
       "      <th>timestamp</th>\n",
       "    </tr>\n",
       "  </thead>\n",
       "  <tbody>\n",
       "    <tr>\n",
       "      <th>835999</th>\n",
       "      <td>A1QP5WSKUYZUMG</td>\n",
       "      <td>B00LWJDZHI</td>\n",
       "      <td>5.0</td>\n",
       "      <td>1406073600</td>\n",
       "    </tr>\n",
       "    <tr>\n",
       "      <th>836000</th>\n",
       "      <td>A3LWJETAAAD4OU</td>\n",
       "      <td>B00LWJDZHI</td>\n",
       "      <td>5.0</td>\n",
       "      <td>1405987200</td>\n",
       "    </tr>\n",
       "    <tr>\n",
       "      <th>836001</th>\n",
       "      <td>A38NRGVVEF3950</td>\n",
       "      <td>B00LWJDZHI</td>\n",
       "      <td>5.0</td>\n",
       "      <td>1405641600</td>\n",
       "    </tr>\n",
       "    <tr>\n",
       "      <th>836002</th>\n",
       "      <td>A36ZEAXJ5HMQXA</td>\n",
       "      <td>B00LWJDZHI</td>\n",
       "      <td>5.0</td>\n",
       "      <td>1406073600</td>\n",
       "    </tr>\n",
       "    <tr>\n",
       "      <th>836003</th>\n",
       "      <td>A1840L5R4OPDE4</td>\n",
       "      <td>B00LWJDZHI</td>\n",
       "      <td>5.0</td>\n",
       "      <td>1405900800</td>\n",
       "    </tr>\n",
       "  </tbody>\n",
       "</table>\n",
       "</div>"
      ],
      "text/plain": [
       "                userID      itemID  rating   timestamp\n",
       "835999  A1QP5WSKUYZUMG  B00LWJDZHI     5.0  1406073600\n",
       "836000  A3LWJETAAAD4OU  B00LWJDZHI     5.0  1405987200\n",
       "836001  A38NRGVVEF3950  B00LWJDZHI     5.0  1405641600\n",
       "836002  A36ZEAXJ5HMQXA  B00LWJDZHI     5.0  1406073600\n",
       "836003  A1840L5R4OPDE4  B00LWJDZHI     5.0  1405900800"
      ]
     },
     "execution_count": 129,
     "metadata": {},
     "output_type": "execute_result"
    }
   ],
   "source": [
    "# Let's look at one specific song\n",
    "songs_item = songs.loc[songs['itemID'] == 'B00LWJDZHI']\n",
    "songs_item.head()"
   ]
  },
  {
   "cell_type": "code",
   "execution_count": 130,
   "metadata": {},
   "outputs": [
    {
     "data": {
      "text/plain": [
       "5.0"
      ]
     },
     "execution_count": 130,
     "metadata": {},
     "output_type": "execute_result"
    }
   ],
   "source": [
    "songs_item['rating'].mean()"
   ]
  },
  {
   "cell_type": "markdown",
   "metadata": {},
   "source": [
    "As we can see from the analysis above, this specific song has received an average rating of 5 as well. This further validates our algorithm's results. From here, we can increase the number of folds in our training method, increase the sample size, and tune the model. This is a fairly straight-forward way to implement this model, but it can certainly be optimized from here."
   ]
  }
 ],
 "metadata": {
  "kernelspec": {
   "display_name": "Python 3",
   "language": "python",
   "name": "python3"
  },
  "language_info": {
   "codemirror_mode": {
    "name": "ipython",
    "version": 3
   },
   "file_extension": ".py",
   "mimetype": "text/x-python",
   "name": "python",
   "nbconvert_exporter": "python",
   "pygments_lexer": "ipython3",
   "version": "3.6.2"
  }
 },
 "nbformat": 4,
 "nbformat_minor": 2
}
