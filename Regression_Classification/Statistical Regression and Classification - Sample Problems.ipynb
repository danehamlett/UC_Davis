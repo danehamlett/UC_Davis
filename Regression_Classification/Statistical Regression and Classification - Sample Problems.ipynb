{
 "cells": [
  {
   "cell_type": "markdown",
   "metadata": {},
   "source": [
    "# Statistical Regression and Classification | Sample Problems\n",
    "\n",
    "#### [From the book Statistical Regression and Classification From Linear Models to Machine Learning](https://www.amazon.com/Statistical-Regression-Classification-Machine-Learning-ebook/dp/B075RG9PWR)"
   ]
  },
  {
   "cell_type": "code",
   "execution_count": 13,
   "metadata": {},
   "outputs": [],
   "source": [
    "## install primary libraries\n",
    "library(regtools)\n",
    "library(freqparcoord)\n",
    "library(mfp)\n",
    "library(PerformanceAnalytics)"
   ]
  },
  {
   "attachments": {},
   "cell_type": "markdown",
   "metadata": {},
   "source": [
    "### Page 61, #'s 1-4\n",
    "\n",
    "#### 1.) In Section 1.12.1.2, the reader was reminded that the results of a cross-validation are random, due to the random partitioning into training and test sets. Try doing several runs of the linear and k-NN code in that section, comparing results."
   ]
  },
  {
   "cell_type": "code",
   "execution_count": 6,
   "metadata": {},
   "outputs": [],
   "source": [
    "## value part function\n",
    "xvalpart <- function(data,p) {\n",
    "  n <- nrow(data)\n",
    "  ntrain <- round(p*n)\n",
    "  trainidxs <- sample(1:n,ntrain,replace = FALSE)\n",
    "  list(train = data[trainidxs,],\n",
    "       valid = data[-trainidxs,])\n",
    "}\n",
    "\n",
    "## linear model function\n",
    "xvallm <- function (data,ycol,predvars,p,meanabs=TRUE) {\n",
    "  tmp <- xvalpart(data,p)\n",
    "  train <- tmp$train\n",
    "  valid <- tmp$valid\n",
    "  # fit model to training data\n",
    "  trainy <- train[,ycol]\n",
    "  trainpreds <- train[,predvars]\n",
    "  # using a matrix form in lm() call\n",
    "  trainpreds <- as.matrix(trainpreds)\n",
    "  lmout <- lm(trainy ~ trainpreds)\n",
    "  # apply fitted model to validation data; note\n",
    "  # that %*% works only on matrices, not dat frames\n",
    "  validpreds <- as.matrix(valid[,predvars])\n",
    "  predy <- cbind(1,validpreds) %*% coef(lmout)\n",
    "  realy <- valid[,ycol]\n",
    "  if (meanabs) return(mean(abs(predy - realy)))\n",
    "  list(predy = predy, realy = realy)\n",
    "}\n",
    "\n",
    "## k-nn model function\n",
    "xvalknn <- function(data,ycol,predvars,k,p,meanabs=TRUE) {\n",
    "  data <- data[,c(predvars,ycol)]\n",
    "  ycol <- length(predvars) + 1\n",
    "  tmp <- xvalpart(data,p)\n",
    "  train <- tmp$train\n",
    "  valid <- tmp$valid\n",
    "  valid <- as.matrix(valid)\n",
    "  xd <- preprocessx(train[,-ycol],k)\n",
    "  kout <- knnest(train[,ycol],xd,k)\n",
    "  predy <- predict(kout,valid[,-ycol],TRUE)\n",
    "  realy <- valid[,ycol]\n",
    "  if (meanabs) return(mean(abs(predy - realy)))\n",
    "  list(predy = predy, realy = realy)\n",
    "}"
   ]
  },
  {
   "cell_type": "code",
   "execution_count": 38,
   "metadata": {},
   "outputs": [
    {
     "data": {
      "text/html": [
       "<table>\n",
       "<thead><tr><th scope=col>Linear Results</th><th scope=col>KNN Results</th><th scope=col>Delta (abs)</th></tr></thead>\n",
       "<tbody>\n",
       "\t<tr><td>13.71722  </td><td>14.26899  </td><td>0.55177176</td></tr>\n",
       "\t<tr><td>13.68654  </td><td>13.78556  </td><td>0.09902476</td></tr>\n",
       "\t<tr><td>13.60688  </td><td>13.86970  </td><td>0.26282527</td></tr>\n",
       "\t<tr><td>13.51292  </td><td>13.24497  </td><td>0.26794659</td></tr>\n",
       "\t<tr><td>14.10435  </td><td>14.20982  </td><td>0.10547035</td></tr>\n",
       "\t<tr><td>13.30243  </td><td>13.73089  </td><td>0.42846205</td></tr>\n",
       "\t<tr><td>13.06079  </td><td>14.47953  </td><td>1.41873646</td></tr>\n",
       "\t<tr><td>13.85474  </td><td>13.76840  </td><td>0.08634126</td></tr>\n",
       "\t<tr><td>13.32756  </td><td>14.53822  </td><td>1.21066052</td></tr>\n",
       "\t<tr><td>14.11263  </td><td>14.22355  </td><td>0.11091628</td></tr>\n",
       "</tbody>\n",
       "</table>\n"
      ],
      "text/latex": [
       "\\begin{tabular}{lll}\n",
       " Linear Results & KNN Results & Delta (abs)\\\\\n",
       "\\hline\n",
       "\t 13.71722   & 14.26899   & 0.55177176\\\\\n",
       "\t 13.68654   & 13.78556   & 0.09902476\\\\\n",
       "\t 13.60688   & 13.86970   & 0.26282527\\\\\n",
       "\t 13.51292   & 13.24497   & 0.26794659\\\\\n",
       "\t 14.10435   & 14.20982   & 0.10547035\\\\\n",
       "\t 13.30243   & 13.73089   & 0.42846205\\\\\n",
       "\t 13.06079   & 14.47953   & 1.41873646\\\\\n",
       "\t 13.85474   & 13.76840   & 0.08634126\\\\\n",
       "\t 13.32756   & 14.53822   & 1.21066052\\\\\n",
       "\t 14.11263   & 14.22355   & 0.11091628\\\\\n",
       "\\end{tabular}\n"
      ],
      "text/markdown": [
       "\n",
       "Linear Results | KNN Results | Delta (abs) | \n",
       "|---|---|---|---|---|---|---|---|---|---|\n",
       "| 13.71722   | 14.26899   | 0.55177176 | \n",
       "| 13.68654   | 13.78556   | 0.09902476 | \n",
       "| 13.60688   | 13.86970   | 0.26282527 | \n",
       "| 13.51292   | 13.24497   | 0.26794659 | \n",
       "| 14.10435   | 14.20982   | 0.10547035 | \n",
       "| 13.30243   | 13.73089   | 0.42846205 | \n",
       "| 13.06079   | 14.47953   | 1.41873646 | \n",
       "| 13.85474   | 13.76840   | 0.08634126 | \n",
       "| 13.32756   | 14.53822   | 1.21066052 | \n",
       "| 14.11263   | 14.22355   | 0.11091628 | \n",
       "\n",
       "\n"
      ],
      "text/plain": [
       "      Linear Results KNN Results Delta (abs)\n",
       " [1,] 13.71722       14.26899    0.55177176 \n",
       " [2,] 13.68654       13.78556    0.09902476 \n",
       " [3,] 13.60688       13.86970    0.26282527 \n",
       " [4,] 13.51292       13.24497    0.26794659 \n",
       " [5,] 14.10435       14.20982    0.10547035 \n",
       " [6,] 13.30243       13.73089    0.42846205 \n",
       " [7,] 13.06079       14.47953    1.41873646 \n",
       " [8,] 13.85474       13.76840    0.08634126 \n",
       " [9,] 13.32756       14.53822    1.21066052 \n",
       "[10,] 14.11263       14.22355    0.11091628 "
      ]
     },
     "metadata": {},
     "output_type": "display_data"
    },
    {
     "name": "stdout",
     "output_type": "stream",
     "text": [
      "[1] Variance between linear results: 0.117361693220488. Variance between delta: 0.23166511009931.\n"
     ]
    }
   ],
   "source": [
    "## run simulations\n",
    "data(mlb)\n",
    "lm_results <- c(replicate(10,xvallm(mlb,5,c(4,6),2/3)))\n",
    "knn_results <- c(replicate(10,xvalknn(mlb,5,c(4,6),25,2/3)))\n",
    "delta <- abs(lm_results-knn_results)\n",
    "result_matrix <- as.matrix(cbind(lm_results,knn_results,delta))\n",
    "colnames(result_matrix) <- c(\"Linear Results\",\"KNN Results\",\"Delta (abs)\")\n",
    "result_matrix\n",
    "l_var <- var(result_matrix[,1])\n",
    "l_delta <- var(result_matrix[,3])\n",
    "print(sprintf(\"Variance between linear results: %s. Variance between delta: %s.\",l_var,l_delta),quote = FALSE)"
   ]
  },
  {
   "cell_type": "markdown",
   "metadata": {},
   "source": [
    "#### 2.) Extend (1.28) to include interaction terms for age and gender, and age^2 and gender. Run the new model, and find the estimated effect of being female, for a 32-year-old person with a Master's degree."
   ]
  },
  {
   "cell_type": "code",
   "execution_count": 10,
   "metadata": {},
   "outputs": [
    {
     "data": {
      "text/plain": [
       "\n",
       "Call:\n",
       "lm(formula = wageinc ~ age + age2 + wkswrkd + ms + phd + fem, \n",
       "    data = prgeng)\n",
       "\n",
       "Coefficients:\n",
       "(Intercept)          age         age2      wkswrkd           ms          phd  \n",
       "  -81136.70      3900.35       -40.33      1196.39     15431.07     23183.97  \n",
       "        fem  \n",
       "  -11484.49  \n"
      ]
     },
     "metadata": {},
     "output_type": "display_data"
    }
   ],
   "source": [
    "## first part of modeling\n",
    "data(prgeng)\n",
    "prgeng$age2 <- prgeng$age^2\n",
    "edu <- prgeng$educ\n",
    "prgeng$ms <- as.integer(edu == 14)\n",
    "prgeng$phd <- as.integer(edu == 16)\n",
    "prgeng$fem <- prgeng$sex - 1\n",
    "tmp <- prgeng[edu >= 13,]\n",
    "# subset data frame by specific columns\n",
    "pe <- tmp[,c(1,12,9,13,14,15,8)]\n",
    "# use as to call out the matrix in-place\n",
    "pe <- as.matrix(pe)\n",
    "# pe\n",
    "lm(wageinc ~ age+age2+wkswrkd+ms+phd+fem,data=prgeng)"
   ]
  },
  {
   "cell_type": "code",
   "execution_count": 11,
   "metadata": {},
   "outputs": [
    {
     "data": {
      "text/html": [
       "<table>\n",
       "<thead><tr><th></th><th scope=col>fit</th><th scope=col>lwr</th><th scope=col>upr</th></tr></thead>\n",
       "<tbody>\n",
       "\t<tr><th scope=row>1</th><td>69086.59 </td><td>-14477.21</td><td>152650.4 </td></tr>\n",
       "</tbody>\n",
       "</table>\n"
      ],
      "text/latex": [
       "\\begin{tabular}{r|lll}\n",
       "  & fit & lwr & upr\\\\\n",
       "\\hline\n",
       "\t1 & 69086.59  & -14477.21 & 152650.4 \\\\\n",
       "\\end{tabular}\n"
      ],
      "text/markdown": [
       "\n",
       "| <!--/--> | fit | lwr | upr | \n",
       "|---|\n",
       "| 1 | 69086.59  | -14477.21 | 152650.4  | \n",
       "\n",
       "\n"
      ],
      "text/plain": [
       "  fit      lwr       upr     \n",
       "1 69086.59 -14477.21 152650.4"
      ]
     },
     "metadata": {},
     "output_type": "display_data"
    }
   ],
   "source": [
    "## second part of modeling\n",
    "wage.lm <- lm(wageinc ~ age+age2+wkswrkd+ms+phd+fem+age:fem+age2:fem,data=prgeng)\n",
    "predict_data <- data.frame(age=32,age2=32^2,wkswrkd=52,ms=1,phd=0,fem=1,agefem=32*1,agefem2=(32^2)*1)\n",
    "predict(wage.lm,predict_data,interval=\"predict\")"
   ]
  },
  {
   "cell_type": "markdown",
   "metadata": {},
   "source": [
    "#### 3.) Consider the bodyfat data mentioned in Section 1.2. Use lm() to form a prediction equation for density from the other variables (skipping the first three), and comment on whether use of indirect methods in this way seems feasible."
   ]
  },
  {
   "cell_type": "code",
   "execution_count": 18,
   "metadata": {},
   "outputs": [
    {
     "data": {
      "text/plain": [
       "\n",
       "Call:\n",
       "lm(formula = density ~ chest + abdomen + hip, data = trim_body_data)\n",
       "\n",
       "Residuals:\n",
       "      Min        1Q    Median        3Q       Max \n",
       "-0.027490 -0.007744 -0.000218  0.007254  0.045280 \n",
       "\n",
       "Coefficients:\n",
       "              Estimate Std. Error t value Pr(>|t|)    \n",
       "(Intercept)  1.1245929  0.0122067  92.129  < 2e-16 ***\n",
       "chest        0.0005467  0.0002038   2.682   0.0078 ** \n",
       "abdomen     -0.0023376  0.0001832 -12.757  < 2e-16 ***\n",
       "hip          0.0009230  0.0001983   4.655 5.27e-06 ***\n",
       "---\n",
       "Signif. codes:  0 ‘***’ 0.001 ‘**’ 0.01 ‘*’ 0.05 ‘.’ 0.1 ‘ ’ 1\n",
       "\n",
       "Residual standard error: 0.01081 on 248 degrees of freedom\n",
       "Multiple R-squared:  0.6811,\tAdjusted R-squared:  0.6773 \n",
       "F-statistic: 176.6 on 3 and 248 DF,  p-value: < 2.2e-16\n"
      ]
     },
     "metadata": {},
     "output_type": "display_data"
    }
   ],
   "source": [
    "data(bodyfat)\n",
    "body_data <- bodyfat[,4:17]\n",
    "trim_body_data <- bodyfat[,c(4,9,10,11)]\n",
    "body.lm <- lm(density ~ chest + abdomen + hip, trim_body_data)\n",
    "summary(body.lm)"
   ]
  },
  {
   "attachments": {},
   "cell_type": "markdown",
   "metadata": {},
   "source": [
    "![Chart Image](https://raw.githubusercontent.com/danehamlett/UC_Davis/master/Regression_Classification/body_chart.png)"
   ]
  },
  {
   "cell_type": "markdown",
   "metadata": {},
   "source": [
    "The use of indirect methods does not seem feasible, by purely using indirect methods.  In order to pair down the model, and identify the most meaningul variables, I was able to first assess the pearson correlation coefficients between variables, and develop a meaningful model from there."
   ]
  },
  {
   "cell_type": "markdown",
   "metadata": {},
   "source": [
    "#### 4.) In Section 1.19.5.2, we gave this intuitive explanation:\n",
    "    \n",
    "####    In other words, the national mean height is a weighted average of the state means, with the weight for each state being its proportion of the national population. Replace state by gender in the following.\n",
    "\n",
    "1. Write English prose that relates the overall mean height of people and the gender-specific mean heights.\n",
    "2. Write English prose that relates the overall proportion of people taller than 70 inches to the gender-specific proportions."
   ]
  },
  {
   "cell_type": "markdown",
   "metadata": {},
   "source": [
    "* In order to compute the mean height of all people, you would need to implement a weighted average of the gender means, with the weight for each gender being its proportion of the total population.  For example, if fifty percent of the population was female, a fifty percent weight would be applied to each female height (a comparable weight would be applied to each male height), those values would be aggregated, and the divided by the the aggregate total of both proportions.\n",
    "\n",
    "* In order to compute the mean height of all people, factoring in gender and people who are taller than 70 inches, you would need to implement a weighted average of the means for each gender with people who are taller than 70 inches and less than 70 inches."
   ]
  },
  {
   "cell_type": "markdown",
   "metadata": {},
   "source": [
    "### Page 120, #'s 1-4\n",
    "\n",
    "#### 1.) Consider the census data in Section 1.16.1.\n",
    "\n",
    "1. Form an approximate 95% confidence interval for B6 in the model (1.28).\n",
    "2. Form an approximate 95% confidence interval for the gender effect for Master's degree holders, B6 + B7, in the model (1.28)."
   ]
  },
  {
   "cell_type": "code",
   "execution_count": 23,
   "metadata": {},
   "outputs": [
    {
     "name": "stdout",
     "output_type": "stream",
     "text": [
      "[1] 95 percent Confidence Interval: (-11491.14, -11477.84)\n"
     ]
    }
   ],
   "source": [
    "data(prgeng)\n",
    "prgeng$age2 <- prgeng$age^2\n",
    "edu <- prgeng$educ\n",
    "prgeng$ms <- as.integer(edu == 14)\n",
    "prgeng$phd <- as.integer(edu == 16)\n",
    "prgeng$fem <- prgeng$sex - 1\n",
    "prgeng$msfem <- prgeng$ms * prgeng$fem\n",
    "tmp <- prgeng[edu >= 13,]\n",
    "# subset data frame by specific columns\n",
    "pe <- tmp[,c(1,12,9,13,14,15,8)]\n",
    "# use as to call out the matrix in-place\n",
    "pe <- as.matrix(pe)\n",
    "\n",
    "# linear modeling\n",
    "wage_lm <- lm(wageinc ~ age+age2+wkswrkd+ms+phd+fem,data=prgeng)\n",
    "wage_lm_sum <- summary(wage_lm)\n",
    "\n",
    "# 95% Confidence Interval\n",
    "fem_fac <- wage_lm$coefficients[7]\n",
    "s <- sd(prgeng$fem,na.rm = TRUE)\n",
    "df <- wage_lm$df.residual\n",
    "fem_var <- df*(s^2)\n",
    "\n",
    "t95 <- qt(.975,df)\n",
    "l95 <- fem_fac - (t95*sqrt(wage_lm_sum$sigma/fem_var))\n",
    "u95 <- fem_fac + (t95*sqrt(wage_lm_sum$sigma/fem_var))\n",
    "\n",
    "l95_rounded <- round(l95, digits = 2)\n",
    "u95_rounded <- round(u95, digits = 2)\n",
    "\n",
    "# Print the 95% Confidence Interval\n",
    "print(sprintf(\"95 percent Confidence Interval: (%s, %s)\",l95_rounded,u95_rounded),quote = FALSE)"
   ]
  },
  {
   "cell_type": "markdown",
   "metadata": {},
   "source": [
    "**Interpretation:** For every unit increase in the female population, we can be 95% confident that the estimated female income will be between \\$11,477.84 and \\$11,481.14 lower than a comparable male's income."
   ]
  },
  {
   "cell_type": "code",
   "execution_count": 25,
   "metadata": {},
   "outputs": [
    {
     "name": "stdout",
     "output_type": "stream",
     "text": [
      "[1] 95 percent Confidence Interval: (-3742.4, -3716.32)\n"
     ]
    }
   ],
   "source": [
    "# additional linear modeling\n",
    "new_wage_lm <- lm(wageinc ~ age+age2+wkswrkd+ms+phd+fem+msfem,data=prgeng)\n",
    "new_wage_lm_sum <- summary(new_wage_lm)\n",
    "\n",
    "# 95% Confidence Interval\n",
    "new_fem_fac <- new_wage_lm$coefficients[8]\n",
    "new_s <- sd(prgeng$msfem,na.rm = TRUE)\n",
    "new_df <- new_wage_lm$df.residual\n",
    "new_fem_var <- new_df*(new_s^2)\n",
    "\n",
    "new_t95 <- qt(.975,new_df)\n",
    "new_l95 <- new_fem_fac - (new_t95*sqrt(new_wage_lm_sum$sigma/new_fem_var))\n",
    "new_u95 <- new_fem_fac + (new_t95*sqrt(new_wage_lm_sum$sigma/new_fem_var))\n",
    "\n",
    "new_l95_rounded <- round(new_l95, digits = 2)\n",
    "new_u95_rounded <- round(new_u95, digits = 2)\n",
    "\n",
    "# Print the 95% Confidence Interval\n",
    "print(sprintf(\"95 percent Confidence Interval: (%s, %s)\",new_l95_rounded,new_u95_rounded),quote = FALSE)"
   ]
  },
  {
   "cell_type": "markdown",
   "metadata": {},
   "source": [
    "**Interpretation:** For every unit increase in the female population (who also have masters degrees), we can be 95% confident that the estimated female income will be between \\$3,716.32 and \\$3,742.40 lower than a comparable male's income."
   ]
  },
  {
   "cell_type": "markdown",
   "metadata": {},
   "source": [
    "#### 2.) Consider the census data in Section 1.16.1.\n",
    "\n",
    "The full bikeshare dataset spans 3 years' time. Our analyses here have only used the first year. Extend the analysis in Section 2.8.5 to the full data set, adding dummy variables indicating the second and third year. Form an approximate 95% confidence interval for the difference between the coefficients of these two dummies.\n",
    "\n",
    "[There are only two years of data in this data set](https://archive.ics.uci.edu/ml/datasets/Bike+Sharing+Dataset)"
   ]
  },
  {
   "cell_type": "code",
   "execution_count": 28,
   "metadata": {},
   "outputs": [
    {
     "name": "stdout",
     "output_type": "stream",
     "text": [
      "[1] 95 percent Confidence Interval: (3831.77, 4405.74)\n"
     ]
    }
   ],
   "source": [
    "# import and modify data\n",
    "library(readr)\n",
    "bike <- read.csv(\"~/Desktop/School/Machine Learning/Bike-Sharing-Dataset/day.csv\")\n",
    "bike$temp2 <- bike$temp^2\n",
    "bike$reg <- bike$registered\n",
    "clear <- bike$weather\n",
    "bike$clearday <- as.integer(clear == 1)\n",
    "\n",
    "# linear modeling\n",
    "lmout <- lm(reg ~ temp+temp2+workingday+clearday+yr,data=bike)\n",
    "\n",
    "# 95% Confidence Interval\n",
    "lamb <- c(0,.154,0,.186,0,1)\n",
    "m_est <-t(lamb) %*% coef(lmout)\n",
    "m_se <- sqrt(t(lamb) %*% vcov(lmout) %*% lamb)\n",
    "m_df <- lmout$df.residual\n",
    "m_t95 <- qt(.975,m_df)\n",
    "m_l95 <- m_est - (m_t95*m_se)\n",
    "m_u95 <- m_est + (m_t95*m_se)\n",
    "\n",
    "m_l95_rounded <- round(m_l95, digits = 2)\n",
    "m_u95_rounded <- round(m_u95, digits = 2)\n",
    "\n",
    "# Print the 95% Confidence Interval\n",
    "print(sprintf(\"95 percent Confidence Interval: (%s, %s)\",m_l95_rounded,m_u95_rounded),quote = FALSE)"
   ]
  },
  {
   "cell_type": "markdown",
   "metadata": {},
   "source": [
    "**Interpretation:** We can be 95% confident that the difference between the number of riders on warmer days in 2011 and 2012 will be between 3,831.77 and 4,405.74."
   ]
  },
  {
   "cell_type": "markdown",
   "metadata": {},
   "source": [
    "#### 3.) Suppose we are studying growth patterns in children, at k particular ages.\n",
    "\n",
    "Denote the height of the ith child in our sample data at age j by Hij , with Hi = (Hi1, ... ,Hik)′ denoting the data for child i. Suppose the population distribution of each Hi is k-variate normal with mean vector mu and covariance matrix sigma. Say we are interested in successive differences in heights, Dij = Hi,j+1 - Hij,j = 1,2, ... ,k-1. Define Di = (Di1, ... ,Dik)′. Explain why each Di is (k-1)-variate normal, and derive matrix expressions for the mean vector and covariance matrices."
   ]
  },
  {
   "cell_type": "markdown",
   "metadata": {},
   "source": [
    "#### 4.) In the simulation in Section 2.9.3, it is claimed that p^2 = .50. Confirm this through derivation."
   ]
  },
  {
   "cell_type": "code",
   "execution_count": 29,
   "metadata": {},
   "outputs": [
    {
     "data": {
      "image/png": "[encoded data removed]",
      "text/plain": [
       "Plot with title “Histogram of r2s”"
      ]
     },
     "metadata": {},
     "output_type": "display_data"
    }
   ],
   "source": [
    "# linear regression simulation\n",
    "simr2 <- function(n,p,nreps) {\n",
    "  r2s <- vector(length=nreps)\n",
    "  for (i in 1:nreps) {\n",
    "    x <- matrix(rnorm(n*p),ncol=p)\n",
    "    y <- x %*% rep(1,p) + rnorm(n,sd=sqrt(p))\n",
    "    r2s[i] <- getr2(x,y)\n",
    "  }\n",
    "  hist(r2s)\n",
    "}\n",
    "\n",
    "getr2 <- function(x,y) {\n",
    "  sum <- summary(lm(y~x))\n",
    "  sum$r.squared\n",
    "}\n",
    "\n",
    "simr2(25,8,1000)"
   ]
  },
  {
   "cell_type": "markdown",
   "metadata": {},
   "source": [
    "**Interpretation:** We can see that by running the above simulation, the bulk of r-squared (or p^2) values are closer to .7, than .5."
   ]
  },
  {
   "cell_type": "code",
   "execution_count": 33,
   "metadata": {},
   "outputs": [
    {
     "data": {
      "image/png": "[encoded data removed]",
      "text/plain": [
       "Plot with title “Histogram of r2s”"
      ]
     },
     "metadata": {},
     "output_type": "display_data"
    }
   ],
   "source": [
    "simr2(50,2,1000)"
   ]
  },
  {
   "cell_type": "markdown",
   "metadata": {},
   "source": [
    "**Interpretation:** We can see that by running the above simulation, with an increased sample size and decreased number of predictors, the bulk of r-squared (or p^2) values are much closer to .5."
   ]
  },
  {
   "cell_type": "code",
   "execution_count": null,
   "metadata": {},
   "outputs": [],
   "source": []
  }
 ],
 "metadata": {
  "kernelspec": {
   "display_name": "R",
   "language": "R",
   "name": "ir"
  },
  "language_info": {
   "codemirror_mode": "r",
   "file_extension": ".r",
   "mimetype": "text/x-r-source",
   "name": "R",
   "pygments_lexer": "r",
   "version": "3.4.1"
  }
 },
 "nbformat": 4,
 "nbformat_minor": 2
}
